{
 "cells": [
  {
   "cell_type": "markdown",
   "metadata": {},
   "source": [
    "<h1>Parsing OMA website</h1>"
   ]
  },
  {
   "cell_type": "markdown",
   "metadata": {},
   "source": [
    "<p>This notebook is just a prototype for testing pieces of python code aimed to parse a specific website.</p>"
   ]
  },
  {
   "cell_type": "code",
   "execution_count": 1,
   "metadata": {},
   "outputs": [],
   "source": [
    "import requests\n",
    "import urllib.request\n",
    "import time\n",
    "from bs4 import BeautifulSoup as BSoup\n",
    "import pandas as pd\n",
    "import re"
   ]
  },
  {
   "cell_type": "code",
   "execution_count": 2,
   "metadata": {},
   "outputs": [],
   "source": [
    "url = 'https://www.oma.by/catalog/'\n",
    "#opens up a connection, grabs the page and downloads it\n",
    "oma_main_html = requests.get(url)"
   ]
  },
  {
   "cell_type": "markdown",
   "metadata": {},
   "source": [
    "<p>soup is a BeautifulSoup object which represents the document as a nested data sctructure:</p>"
   ]
  },
  {
   "cell_type": "code",
   "execution_count": 3,
   "metadata": {},
   "outputs": [],
   "source": [
    "oma_catalog_soup = BSoup(oma_main_html.text, 'html.parser')\n",
    "oma_catalog_soup.title\n",
    "oma_catalog_soup.close"
   ]
  },
  {
   "cell_type": "markdown",
   "metadata": {},
   "source": [
    "<h3>Getting categories </h3>\n",
    "<p>So we get the soup object successfully. Now will try to find category headers on a catalog page (there are 7 main categories). </p>\n",
    "<img src=\"screenshots/category_schema.png\" align=\"left\" width=\"600\">"
   ]
  },
  {
   "cell_type": "code",
   "execution_count": 4,
   "metadata": {
    "scrolled": true
   },
   "outputs": [
    {
     "name": "stdout",
     "output_type": "stream",
     "text": [
      "There are 7 objects that has h2 tags inside the header tag\n",
      "\n",
      "The whole list of the categories:\n",
      "<h2>Инструменты, крепёж</h2>\n",
      "<h2>Отделка</h2>\n",
      "<h2>Садовый центр / отдых</h2>\n",
      "<h2>Сантехника</h2>\n",
      "<h2>Строительство</h2>\n",
      "<h2>Товары для дома</h2>\n",
      "<h2>Электротехника</h2>\n"
     ]
    }
   ],
   "source": [
    "categories = oma_catalog_soup.select('section.bordered-section h2')\n",
    "print(f'There are {len(categories)} objects that has h2 tags inside the header tag')\n",
    "\n",
    "print('\\nThe whole list of the categories:')\n",
    "for category in categories:\n",
    "    print(category)"
   ]
  },
  {
   "cell_type": "markdown",
   "metadata": {},
   "source": [
    "<h3>Getting all categories</h3>\n",
    "<p>So we get the categories list correctly and we can use this h2 tags as anchors for looping.</p>\n",
    "<img src=\"screenshots/subcategories_schema.png\" align=\"left\" width=\"720\">"
   ]
  },
  {
   "cell_type": "markdown",
   "metadata": {},
   "source": [
    "<p>Getting subcategories lvl1 and subcategores lvl2 is possible by processing each category one by one. It is useful to extract 7 category sections for that. </p>"
   ]
  },
  {
   "cell_type": "code",
   "execution_count": 5,
   "metadata": {},
   "outputs": [
    {
     "name": "stdout",
     "output_type": "stream",
     "text": [
      "\n",
      "The type of categories is <class 'bs4.element.ResultSet'>.\n",
      "\n",
      "There are 7 main category objects in <class 'bs4.element.ResultSet'>.\n",
      "\n",
      "Each category object has <class 'bs4.element.Tag'> type.\n",
      "\n",
      "First category raw:\n",
      "[<h2>Инструменты, крепёж</h2>]\n",
      "<class 'list'>\n",
      "\n",
      "First category extracted from list:\n",
      "<h2>Инструменты, крепёж</h2>\n",
      "<class 'bs4.element.Tag'>\n",
      "\n",
      "First category extracted from list and converted to string:\n",
      "<h2>Инструменты, крепёж</h2>\n",
      "<class 'str'>\n",
      "\n"
     ]
    }
   ],
   "source": [
    "categories = oma_catalog_soup.findAll('section',\\\n",
    "                                      {'class':'bordered-section js-accordion-group'})\n",
    "\n",
    "print(f'\\nThe type of categories is {type(categories)}.')\n",
    "\n",
    "print(f'\\nThere are {len(categories)} main category objects in {type(categories)}.')\n",
    "\n",
    "print(f'\\nEach category object has {type(categories[0])} type.')\n",
    "\n",
    "#strip the name of the category\n",
    "category_name_0 = categories[0].select('section.bordered-section h2')\n",
    "\n",
    "print('\\nFirst category raw:')\n",
    "print(category_name_0)\n",
    "print(type(category_name_0))\n",
    "\n",
    "print('\\nFirst category extracted from list:')\n",
    "print(category_name_0[0])\n",
    "print(type(category_name_0[0]))\n",
    "\n",
    "print('\\nFirst category extracted from list and converted to string:')\n",
    "print(str(category_name_0[0]))\n",
    "print(type(str(category_name_0[0])))\n",
    "print('')"
   ]
  },
  {
   "cell_type": "markdown",
   "metadata": {},
   "source": [
    "<p>Extract category names:</p>"
   ]
  },
  {
   "cell_type": "code",
   "execution_count": 6,
   "metadata": {},
   "outputs": [
    {
     "name": "stdout",
     "output_type": "stream",
     "text": [
      "Инструменты, крепёж\n",
      "Отделка\n",
      "Садовый центр / отдых\n",
      "Сантехника\n",
      "Строительство\n",
      "Товары для дома\n",
      "Электротехника\n"
     ]
    }
   ],
   "source": [
    "def remove_tags(text): \n",
    "    \"\"\"Remove html tags from a string\"\"\"\n",
    "    clean = re.compile('<.*?>')\n",
    "    return re.sub(clean, '', text)\n",
    "\n",
    "def extract_category_name(list):\n",
    "    name_with_tags = str(list[0])\n",
    "    return remove_tags(name_with_tags)\n",
    "\n",
    "for category in categories:\n",
    "    category_name_raw = category.select('section.bordered-section h2')\n",
    "    print(extract_category_name(category_name_raw))"
   ]
  },
  {
   "cell_type": "markdown",
   "metadata": {},
   "source": [
    "<h3>Getting subcategories lvl_1</h3>\n",
    "<p>Getting subcategories lvl_1 fron single category object.</p>"
   ]
  },
  {
   "cell_type": "code",
   "execution_count": 7,
   "metadata": {},
   "outputs": [
    {
     "name": "stdout",
     "output_type": "stream",
     "text": [
      "\n",
      "The type of subcats_lvl_1 is <class 'bs4.element.ResultSet'>.\n",
      "\n",
      "There are 40 subcats_lvl_1 objects\n",
      "\n",
      "Each subcats_lvl_1 object has <class 'bs4.element.Tag'> type.\n",
      "\n",
      "\n",
      " first subcategory_lvl_1:\n",
      "<div class=\"catalog-all-item col col-lg-3-of-12 col-md-4-of-12 col-sm-6-of-12 col-xs-12-of-12\">\n",
      "<div class=\"catalog-all-item_img-box\">\n",
      "<img alt=\"\" src=\"/upload/Sh/imageCache/ad0/5e0/14b9b1eb45799ec953c4d4a00d601b13.jpg\"/>\n",
      "</div>\n",
      "<div class=\"accordion-item accordion-item__right-icon js-accordion\">\n",
      "<div class=\"accordion-item_top\">\n",
      "<div class=\"accordion-item_icon css-plus-icon js-accordion-bar\"></div>\n",
      "<div class=\"accordion-item_title\">\n",
      "<a href=\"/ankery-13127-c\">Анкеры</a>\n",
      "</div>\n",
      "</div>\n",
      "<div class=\"accordion-item_body js-accordion-body js-show-more-box\" data-items-visible=\"11\">\n",
      "<a class=\"section-submenu-sublink\" href=\"/ankery-ramnye-13251-c\">Анкеры рамные</a>\n",
      "<a class=\"section-submenu-sublink\" href=\"/ankery-spetsialnye-13252-c\">Анкеры специальные</a>\n",
      "<a class=\"section-submenu-sublink\" href=\"/bolty-ankernye-13253-c\">Болты анкерные</a>\n",
      "</div>\n",
      "</div>\n",
      "</div>\n",
      "[<a href=\"/ankery-13127-c\">Анкеры</a>]\n"
     ]
    }
   ],
   "source": [
    "subcats_lvl_1 = categories[0].findAll('div',\\\n",
    "                                      {'class':'catalog-all-item'})\n",
    "\n",
    "print(f'\\nThe type of subcats_lvl_1 is {type(subcats_lvl_1)}.')\n",
    "\n",
    "print(f'\\nThere are {len(subcats_lvl_1)} subcats_lvl_1 objects')\n",
    "\n",
    "print(f'\\nEach subcats_lvl_1 object has {type(subcats_lvl_1[0])} type.')\n",
    "\n",
    "print('\\n\\n first subcategory_lvl_1:')\n",
    "print(subcats_lvl_1[0])\n",
    "\n",
    "print(subcats_lvl_1[0].select('div.accordion-item_title a'))"
   ]
  },
  {
   "cell_type": "markdown",
   "metadata": {},
   "source": [
    "<p>Extract subcats_lvl_1 names from first <i>category</i> object:</p>"
   ]
  },
  {
   "cell_type": "code",
   "execution_count": 8,
   "metadata": {},
   "outputs": [
    {
     "name": "stdout",
     "output_type": "stream",
     "text": [
      "\n",
      "There are 40 subcategory lvl_1 divs\n",
      "\n",
      "There are 40 subcategory lvl_1 a tags\n",
      "\n",
      "There first subcategory lvl_1 tag: <a href=\"/ankery-13127-c\">Анкеры</a>\n",
      "\n",
      "\n",
      "First 3 subcategory lvl_1 tags:\n",
      "\n",
      "<a href=\"/ankery-13127-c\">Анкеры</a>\n",
      "\n",
      "<a href=\"/benzokosy-travokosilki-elektrotrimmery-14309-c\">Бензокосы(травокосилки)/электротриммеры</a>\n",
      "\n",
      "<a href=\"/bolty-vinty-gayki-shayby-shpilki-konfirmaty-13128-c\">Болты/ винты/ гайки/ шайбы/шпильки/конфирматы</a>\n",
      "\n",
      "\n",
      "The last 4 subcategory lvl_1 tag names:\n",
      "\n",
      "Шлифмашины, полирователи, бороздоделы\n",
      "\n",
      "Шурупы/ заглушки\n",
      "\n",
      "Электросварочное оборудование и материалы\n",
      "\n",
      "Ящики для инструмента , органайзеры\n"
     ]
    }
   ],
   "source": [
    "subcats_lvl_1_divs = categories[0].findAll('div',\\\n",
    "                                      {'class':'accordion-item_title'})\n",
    "\n",
    "print(f'\\nThere are {len(subcats_lvl_1_divs)} subcategory lvl_1 divs')\n",
    "\n",
    "subcats_lvl_1_a_tags = categories[0].select('div.accordion-item_title a')\n",
    "print(f'\\nThere are {len(subcats_lvl_1_a_tags)} subcategory lvl_1 a tags')\n",
    "\n",
    "print(f'\\nThere first subcategory lvl_1 tag: {subcats_lvl_1_a_tags[0]}')\n",
    "\n",
    "print('\\n\\nFirst 3 subcategory lvl_1 tags:')\n",
    "for subcat_lvl_1_a_tag in subcats_lvl_1_a_tags[:3]:\n",
    "    print(f'\\n{subcat_lvl_1_a_tag}')\n",
    "    \n",
    "print('\\n\\nThe last 4 subcategory lvl_1 tag names:')\n",
    "for subcat_lvl_1_a_tag in subcats_lvl_1_a_tags[-4:]:\n",
    "    print(f'\\n{remove_tags(str(subcat_lvl_1_a_tag))}')"
   ]
  },
  {
   "cell_type": "markdown",
   "metadata": {},
   "source": [
    "<p>The last 4 elements of subcategories 1lvl.</p>\n",
    "<img src=\"screenshots/subcats_lvl_1.png\" align=\"left\" width=\"720\">"
   ]
  },
  {
   "cell_type": "markdown",
   "metadata": {},
   "source": [
    "<h3>Getting subcategories lvl_2</h3>\n",
    "<p>Getting subcategories lvl_2 from single subcats_lvl_1 object.</p>"
   ]
  },
  {
   "cell_type": "code",
   "execution_count": 9,
   "metadata": {},
   "outputs": [
    {
     "name": "stdout",
     "output_type": "stream",
     "text": [
      "\n",
      "The type of subcats_lvl_2 is <class 'bs4.element.ResultSet'>.\n",
      "\n",
      "\n",
      "There are 5 subcats_lvl_2 objects\n",
      "\n",
      "\n",
      "Each subcats_lvl_2 object has <class 'bs4.element.Tag'> type.\n",
      "\n",
      "\n",
      "Subcatergoy lvl_2 objects\n",
      "<a class=\"section-submenu-sublink\" href=\"/benzokosy-travokosilki-bytovye-14324-c\">Бензокосы (травокосилки) бытовые</a>\n",
      "<a class=\"section-submenu-sublink\" href=\"/benzokosy-travokosilki-professionalnye-14325-c\">Бензокосы (травокосилки) профессиональные</a>\n",
      "<a class=\"section-submenu-sublink\" href=\"/trimmery-akkumulyatornye-14326-c\">Триммеры аккумуляторные</a>\n",
      "\n",
      "\n",
      "Subcategory lvl_2 tag names:\n",
      "\n",
      "Триммеры аккумуляторные\n",
      "\n",
      "Триммеры электрические с верхним двигателем\n",
      "\n",
      "Триммеры электрические с нижним двигателем\n",
      "\n",
      "\n",
      "Subcategory lvl_2 tag links:\n",
      "\n",
      " /trimmery-akkumulyatornye-14326-c\n",
      "\n",
      " /trimmery-elektricheskie-s-verkhnim-dvigatelem-14327-c\n",
      "\n",
      " /trimmery-elektricheskie-s-nizhnim-dvigatelem-14328-c\n"
     ]
    }
   ],
   "source": [
    "subcats_lvl_2_tags = subcats_lvl_1[1].findAll('a',\\\n",
    "                                      {'class':'section-submenu-sublink'})\n",
    "\n",
    "print(f'\\nThe type of subcats_lvl_2 is {type(subcats_lvl_2_tags)}.')\n",
    "\n",
    "print(f'\\n\\nThere are {len(subcats_lvl_2_tags)} subcats_lvl_2 objects')\n",
    "\n",
    "print(f'\\n\\nEach subcats_lvl_2 object has {type(subcats_lvl_2_tags[0])} type.')\n",
    "\n",
    "print('\\n\\nSubcatergoy lvl_2 objects')\n",
    "for subcat_lvl_2_tag in subcats_lvl_2_tags[:3]:\n",
    "    print(f'{subcat_lvl_2_tag}')\n",
    "\n",
    "print('\\n\\nSubcategory lvl_2 tag names:')\n",
    "for subcat_lvl_2_a_tag in subcats_lvl_2_tags[-3:]:\n",
    "    print(f'\\n{remove_tags(str(subcat_lvl_2_a_tag))}')\n",
    "    \n",
    "print('\\n\\nSubcategory lvl_2 tag links:')\n",
    "for subcat_lvl_2_a_tag in subcats_lvl_2_tags[-3:]:\n",
    "    link = subcat_lvl_2_a_tag.get('href')\n",
    "    print(f'\\n {link}')    \n",
    "\n",
    "    \n",
    "#soup.findAll('a', attrs={'href': re.compile(\"^http://\")})"
   ]
  },
  {
   "cell_type": "markdown",
   "metadata": {},
   "source": [
    "<h3>Create a dataframe for links storage</h3>\n",
    "<p>Seems like a good idea to have dataframe containing all links to subcategories lvl 2. The dataframe is expected to be lightweight and unseful for future parsing.</p>"
   ]
  },
  {
   "cell_type": "code",
   "execution_count": 10,
   "metadata": {},
   "outputs": [
    {
     "data": {
      "text/html": [
       "<div>\n",
       "<style scoped>\n",
       "    .dataframe tbody tr th:only-of-type {\n",
       "        vertical-align: middle;\n",
       "    }\n",
       "\n",
       "    .dataframe tbody tr th {\n",
       "        vertical-align: top;\n",
       "    }\n",
       "\n",
       "    .dataframe thead th {\n",
       "        text-align: right;\n",
       "    }\n",
       "</style>\n",
       "<table border=\"1\" class=\"dataframe\">\n",
       "  <thead>\n",
       "    <tr style=\"text-align: right;\">\n",
       "      <th></th>\n",
       "      <th>Category</th>\n",
       "      <th>Subcategory lvl 1</th>\n",
       "      <th>Subcategory lvl 2</th>\n",
       "      <th>Link</th>\n",
       "    </tr>\n",
       "  </thead>\n",
       "  <tbody>\n",
       "  </tbody>\n",
       "</table>\n",
       "</div>"
      ],
      "text/plain": [
       "Empty DataFrame\n",
       "Columns: [Category, Subcategory lvl 1, Subcategory lvl 2, Link]\n",
       "Index: []"
      ]
     },
     "execution_count": 10,
     "metadata": {},
     "output_type": "execute_result"
    }
   ],
   "source": [
    "main_page_links_df = pd.DataFrame(columns = [ 'Category',\\\n",
    "                                             'Subcategory lvl 1','Subcategory lvl 2',\\\n",
    "                                             'Link']) \n",
    "main_page_links_df"
   ]
  },
  {
   "cell_type": "markdown",
   "metadata": {},
   "source": [
    "<h3>Create a loop for iterating over categories and subcategories and fill the dataframe</h3>\n",
    "<p>Seems like a good idea to have dataframe containing all links to subcategories lvl 2. The dataframe is expected to be lightweight and unseful for future parsing.</p>"
   ]
  },
  {
   "cell_type": "code",
   "execution_count": 11,
   "metadata": {},
   "outputs": [
    {
     "name": "stdout",
     "output_type": "stream",
     "text": [
      "CPU times: user 3.36 s, sys: 26.2 ms, total: 3.39 s\n",
      "Wall time: 3.45 s\n"
     ]
    }
   ],
   "source": [
    "%%time\n",
    "i = 0;\n",
    "for category in categories:\n",
    "    category_name_raw = category.select('section.bordered-section h2')\n",
    "    category_name = extract_category_name(category_name_raw)\n",
    "    subcats_lvl_1 = category.findAll('div',\\\n",
    "                                      {'class':'catalog-all-item'})\n",
    "    for subcat_lvl_1 in subcats_lvl_1:\n",
    "        subcat_lvl_1_name_raw = subcat_lvl_1.select('div.accordion-item_title a')\n",
    "        subcat_lvl_1_name = extract_category_name(subcat_lvl_1_name_raw)\n",
    "        subcats_lvl_2_tags = subcat_lvl_1.findAll('a',\\\n",
    "                                      {'class':'section-submenu-sublink'})\n",
    "        \n",
    "        for subcat_lvl_2_tag in subcats_lvl_2_tags:\n",
    "            subcat_lvl_2_name = remove_tags(str(subcat_lvl_2_tag))\n",
    "            link = 'https://www.oma.by' + subcat_lvl_2_tag.get('href')\n",
    "            main_page_links_df.loc[i] = [category_name] + [subcat_lvl_1_name] + [subcat_lvl_2_name] + [link]\n",
    "            i+=1"
   ]
  },
  {
   "cell_type": "code",
   "execution_count": 12,
   "metadata": {},
   "outputs": [
    {
     "data": {
      "text/html": [
       "<div>\n",
       "<style scoped>\n",
       "    .dataframe tbody tr th:only-of-type {\n",
       "        vertical-align: middle;\n",
       "    }\n",
       "\n",
       "    .dataframe tbody tr th {\n",
       "        vertical-align: top;\n",
       "    }\n",
       "\n",
       "    .dataframe thead th {\n",
       "        text-align: right;\n",
       "    }\n",
       "</style>\n",
       "<table border=\"1\" class=\"dataframe\">\n",
       "  <thead>\n",
       "    <tr style=\"text-align: right;\">\n",
       "      <th></th>\n",
       "      <th>Category</th>\n",
       "      <th>Subcategory lvl 1</th>\n",
       "      <th>Subcategory lvl 2</th>\n",
       "      <th>Link</th>\n",
       "    </tr>\n",
       "  </thead>\n",
       "  <tbody>\n",
       "    <tr>\n",
       "      <th>0</th>\n",
       "      <td>Инструменты, крепёж</td>\n",
       "      <td>Анкеры</td>\n",
       "      <td>Анкеры рамные</td>\n",
       "      <td>https://www.oma.by/ankery-ramnye-13251-c</td>\n",
       "    </tr>\n",
       "    <tr>\n",
       "      <th>1</th>\n",
       "      <td>Инструменты, крепёж</td>\n",
       "      <td>Анкеры</td>\n",
       "      <td>Анкеры специальные</td>\n",
       "      <td>https://www.oma.by/ankery-spetsialnye-13252-c</td>\n",
       "    </tr>\n",
       "    <tr>\n",
       "      <th>2</th>\n",
       "      <td>Инструменты, крепёж</td>\n",
       "      <td>Анкеры</td>\n",
       "      <td>Болты анкерные</td>\n",
       "      <td>https://www.oma.by/bolty-ankernye-13253-c</td>\n",
       "    </tr>\n",
       "    <tr>\n",
       "      <th>3</th>\n",
       "      <td>Инструменты, крепёж</td>\n",
       "      <td>Бензокосы(травокосилки)/электротриммеры</td>\n",
       "      <td>Бензокосы (травокосилки) бытовые</td>\n",
       "      <td>https://www.oma.by/benzokosy-travokosilki-byto...</td>\n",
       "    </tr>\n",
       "    <tr>\n",
       "      <th>4</th>\n",
       "      <td>Инструменты, крепёж</td>\n",
       "      <td>Бензокосы(травокосилки)/электротриммеры</td>\n",
       "      <td>Бензокосы (травокосилки) профессиональные</td>\n",
       "      <td>https://www.oma.by/benzokosy-travokosilki-prof...</td>\n",
       "    </tr>\n",
       "  </tbody>\n",
       "</table>\n",
       "</div>"
      ],
      "text/plain": [
       "              Category                        Subcategory lvl 1  \\\n",
       "0  Инструменты, крепёж                                   Анкеры   \n",
       "1  Инструменты, крепёж                                   Анкеры   \n",
       "2  Инструменты, крепёж                                   Анкеры   \n",
       "3  Инструменты, крепёж  Бензокосы(травокосилки)/электротриммеры   \n",
       "4  Инструменты, крепёж  Бензокосы(травокосилки)/электротриммеры   \n",
       "\n",
       "                           Subcategory lvl 2  \\\n",
       "0                              Анкеры рамные   \n",
       "1                         Анкеры специальные   \n",
       "2                             Болты анкерные   \n",
       "3           Бензокосы (травокосилки) бытовые   \n",
       "4  Бензокосы (травокосилки) профессиональные   \n",
       "\n",
       "                                                Link  \n",
       "0           https://www.oma.by/ankery-ramnye-13251-c  \n",
       "1      https://www.oma.by/ankery-spetsialnye-13252-c  \n",
       "2          https://www.oma.by/bolty-ankernye-13253-c  \n",
       "3  https://www.oma.by/benzokosy-travokosilki-byto...  \n",
       "4  https://www.oma.by/benzokosy-travokosilki-prof...  "
      ]
     },
     "execution_count": 12,
     "metadata": {},
     "output_type": "execute_result"
    }
   ],
   "source": [
    "main_page_links_df.head()"
   ]
  },
  {
   "cell_type": "code",
   "execution_count": 13,
   "metadata": {},
   "outputs": [
    {
     "data": {
      "text/html": [
       "<div>\n",
       "<style scoped>\n",
       "    .dataframe tbody tr th:only-of-type {\n",
       "        vertical-align: middle;\n",
       "    }\n",
       "\n",
       "    .dataframe tbody tr th {\n",
       "        vertical-align: top;\n",
       "    }\n",
       "\n",
       "    .dataframe thead th {\n",
       "        text-align: right;\n",
       "    }\n",
       "</style>\n",
       "<table border=\"1\" class=\"dataframe\">\n",
       "  <thead>\n",
       "    <tr style=\"text-align: right;\">\n",
       "      <th></th>\n",
       "      <th>Category</th>\n",
       "      <th>Subcategory lvl 1</th>\n",
       "      <th>Subcategory lvl 2</th>\n",
       "      <th>Link</th>\n",
       "    </tr>\n",
       "  </thead>\n",
       "  <tbody>\n",
       "    <tr>\n",
       "      <th>1218</th>\n",
       "      <td>Электротехника</td>\n",
       "      <td>Электрощитовое оборудование</td>\n",
       "      <td>Предохранители пар и плавкие вставки</td>\n",
       "      <td>https://www.oma.by/predokhraniteli-par-i-plavk...</td>\n",
       "    </tr>\n",
       "    <tr>\n",
       "      <th>1219</th>\n",
       "      <td>Электротехника</td>\n",
       "      <td>Электрощитовое оборудование</td>\n",
       "      <td>Узо и дифференциальные автоматы</td>\n",
       "      <td>https://www.oma.by/uzo-i-differentsialnye-avto...</td>\n",
       "    </tr>\n",
       "    <tr>\n",
       "      <th>1220</th>\n",
       "      <td>Электротехника</td>\n",
       "      <td>Электрощитовое оборудование</td>\n",
       "      <td>Шины соединительные</td>\n",
       "      <td>https://www.oma.by/shiny-soedinitelnye-14194-c</td>\n",
       "    </tr>\n",
       "    <tr>\n",
       "      <th>1221</th>\n",
       "      <td>Электротехника</td>\n",
       "      <td>Электрощитовое оборудование</td>\n",
       "      <td>Ящики и корпуса для электрооборудования металл...</td>\n",
       "      <td>https://www.oma.by/yashchiki-i-korpusa-dlya-el...</td>\n",
       "    </tr>\n",
       "    <tr>\n",
       "      <th>1222</th>\n",
       "      <td>Электротехника</td>\n",
       "      <td>Электрощитовое оборудование</td>\n",
       "      <td>Ящики и корпуса для электрооборудования пласти...</td>\n",
       "      <td>https://www.oma.by/yashchiki-i-korpusa-dlya-el...</td>\n",
       "    </tr>\n",
       "  </tbody>\n",
       "</table>\n",
       "</div>"
      ],
      "text/plain": [
       "            Category            Subcategory lvl 1  \\\n",
       "1218  Электротехника  Электрощитовое оборудование   \n",
       "1219  Электротехника  Электрощитовое оборудование   \n",
       "1220  Электротехника  Электрощитовое оборудование   \n",
       "1221  Электротехника  Электрощитовое оборудование   \n",
       "1222  Электротехника  Электрощитовое оборудование   \n",
       "\n",
       "                                      Subcategory lvl 2  \\\n",
       "1218               Предохранители пар и плавкие вставки   \n",
       "1219                    Узо и дифференциальные автоматы   \n",
       "1220                                Шины соединительные   \n",
       "1221  Ящики и корпуса для электрооборудования металл...   \n",
       "1222  Ящики и корпуса для электрооборудования пласти...   \n",
       "\n",
       "                                                   Link  \n",
       "1218  https://www.oma.by/predokhraniteli-par-i-plavk...  \n",
       "1219  https://www.oma.by/uzo-i-differentsialnye-avto...  \n",
       "1220     https://www.oma.by/shiny-soedinitelnye-14194-c  \n",
       "1221  https://www.oma.by/yashchiki-i-korpusa-dlya-el...  \n",
       "1222  https://www.oma.by/yashchiki-i-korpusa-dlya-el...  "
      ]
     },
     "execution_count": 13,
     "metadata": {},
     "output_type": "execute_result"
    }
   ],
   "source": [
    "main_page_links_df.tail()"
   ]
  },
  {
   "cell_type": "markdown",
   "metadata": {},
   "source": [
    "<h3>Preliminary Conlusion</h3>\n",
    "<p>What we have got is pandas dataframe containing category, subcategory lvl 1, subcategory lvl 2 and link to this subcategory lvl 2 section. This chart will be used for feeding the parser.</p>"
   ]
  }
 ],
 "metadata": {
  "kernelspec": {
   "display_name": "Python 3",
   "language": "python",
   "name": "python3"
  },
  "language_info": {
   "codemirror_mode": {
    "name": "ipython",
    "version": 3
   },
   "file_extension": ".py",
   "mimetype": "text/x-python",
   "name": "python",
   "nbconvert_exporter": "python",
   "pygments_lexer": "ipython3",
   "version": "3.6.4"
  }
 },
 "nbformat": 4,
 "nbformat_minor": 2
}
