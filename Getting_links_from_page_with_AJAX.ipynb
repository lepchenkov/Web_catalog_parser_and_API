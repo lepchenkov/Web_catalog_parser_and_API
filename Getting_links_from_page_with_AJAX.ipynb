{
 "cells": [
  {
   "cell_type": "markdown",
   "metadata": {},
   "source": [
    "<h1>Getting links from page with AJAX calls</h1>"
   ]
  },
  {
   "cell_type": "code",
   "execution_count": 1,
   "metadata": {},
   "outputs": [],
   "source": [
    "import requests\n",
    "import urllib.request\n",
    "import time\n",
    "from bs4 import BeautifulSoup as BSoup\n",
    "import pandas as pd\n",
    "import re\n",
    "import lxml\n",
    "import html5lib"
   ]
  },
  {
   "cell_type": "markdown",
   "metadata": {},
   "source": [
    "<p>First of all will get all product cards from plain html. From this particular page we should get 24 cards.</p>\n",
    "<img src=\"screenshots/4x6_catalog_page.png\" align=\"left\" width=\"300\">"
   ]
  },
  {
   "cell_type": "markdown",
   "metadata": {},
   "source": [
    "<p>Try extracting link of a single card.</p>"
   ]
  },
  {
   "cell_type": "code",
   "execution_count": 2,
   "metadata": {},
   "outputs": [
    {
     "name": "stdout",
     "output_type": "stream",
     "text": [
      "https://www.oma.by/drel-shurupovert-akkumulyatornaya-werker-ewcdl814-1-244685-p\n"
     ]
    }
   ],
   "source": [
    "#typical products page\n",
    "url = 'https://www.oma.by/dreli-shurupoverty-perforatory-meshalki-13236-c'\n",
    "\n",
    "products_page = requests.get(url)\n",
    "products_page_soup = BSoup(products_page.text, 'html.parser')\n",
    "\n",
    "#the extraction of link of the product card is made two-staged\n",
    "product_cards = products_page_soup.select('div.catalog-grid div.product-item_img-box')\n",
    "product_link_raw = product_cards[0].select('a.no-border-product')\n",
    "product_link = 'https://www.oma.by' + product_link_raw[0].attrs['href']\n",
    "print(product_link)\n"
   ]
  },
  {
   "cell_type": "markdown",
   "metadata": {},
   "source": [
    "<p>Make a function for links extraction from a page and test it.</p>"
   ]
  },
  {
   "cell_type": "code",
   "execution_count": 6,
   "metadata": {},
   "outputs": [
    {
     "name": "stdout",
     "output_type": "stream",
     "text": [
      "0 https://www.oma.by/drel-shurupovert-akkumulyatornaya-werker-ewcdl814-1-244685-p\n",
      "1 https://www.oma.by/shurupovert-otvertka-akkumulyatornaya-werker-ewcd001-1-244684-p\n",
      "2 https://www.oma.by/drel-shurupovert-bosch-easydrill-1200-06039a210b-1-247717-p\n",
      "3 https://www.oma.by/perforator-makita-hr-2470-1-149453-p\n",
      "4 https://www.oma.by/perforator-bytovoy-werker-ewrh-606-1-229957-p\n",
      "5 https://www.oma.by/drel-shurupovert-akkumulyatornaya-bosch-easydrill-12-2-060397290x-1-247573-p\n",
      "6 https://www.oma.by/drel-werker-ewid-652-1-229966-p\n",
      "7 https://www.oma.by/drel-shurupovert-werker-ewed-651-1-229975-p\n",
      "8 https://www.oma.by/perforator-bosch-pbh-2100-re-2-zubila-2-bura-1-216760-p\n",
      "9 https://www.oma.by/perforator-bosch-gbh-2-26-dfr--1-127233-p\n",
      "10 https://www.oma.by/setevaya-drel-shurupovert-werker-dse-280-1-260565-p\n",
      "11 https://www.oma.by/akkumulyatornaya-drel-shurupovert-werker-cd-1411-li-1-261826-p\n",
      "12 https://www.oma.by/perforator-bytovoy-bosch-pbh-2000-re-06033a9322-1-257514-p\n",
      "13 https://www.oma.by/drel-bosch-gsb-13-re-0601217102-1-151169-p\n",
      "14 https://www.oma.by/perforator-bosch-gbh-2-24-dre-0611272100-1-248353-p\n",
      "15 https://www.oma.by/drel-bosch-easyimpact-550-0603130020-1-247577-p\n",
      "16 https://www.oma.by/drel-shurupovert-bosch-gsr-180-li-06019f8100-1-249012-p\n",
      "17 https://www.oma.by/shurupovert-bosch-ixo-v-full-0-603-9a8-022-1-229715-p\n",
      "18 https://www.oma.by/shurupovert-otvertka-akkumulyatornyy-bosch-go-kit-6019h2021-1-257151-p\n",
      "19 https://www.oma.by/perforator-bosch-pbh-2100-re-1-190165-p\n",
      "20 https://www.oma.by/shurupovert-impulsnyy-akkumulyatornyy-bosch-gdr-120-li-1-250452-p\n",
      "21 https://www.oma.by/drel-werker-ewid-651-1-229967-p\n",
      "22 https://www.oma.by/drel-bosch-easyimpact-500-0603130003-1-248877-p\n",
      "23 https://www.oma.by/drel-shurupovert-bosch-gsr-10-8-2-li-0601868107-1-208883-p\n"
     ]
    }
   ],
   "source": [
    "def extract_product_links(soup):\n",
    "    product_cards = soup.select('div.catalog-grid \\\n",
    "                                 div.product-item_img-box')\n",
    "    link_array = []\n",
    "    for card in product_cards:\n",
    "        link_raw = card.select('a.no-border-product')\n",
    "        link = 'https://www.oma.by' + link_raw[0].attrs['href']\n",
    "        link_array.append(link)\n",
    "        \n",
    "    return link_array\n",
    "    \n",
    "\n",
    "link_array_test = extract_product_links(products_page_soup)\n",
    "for counter, link in enumerate(link_array_test):\n",
    "    print(counter, link)"
   ]
  },
  {
   "cell_type": "markdown",
   "metadata": {},
   "source": [
    "<p>The function works fine and outputs 24 product links from the first page as expected.</p>\n",
    "<h3 style=\"color:red\"><i>Problem</i></h3>\n",
    "<p>There is a problem by the way. Normally products take more than one page and expanding the page happens with AJAX call. The idea is to expand the page until it expands and only then extract all links.</p>\n",
    "<img src=\"screenshots/expand_buttons.png\" align=\"left\" width=\"600\">"
   ]
  }
 ],
 "metadata": {
  "kernelspec": {
   "display_name": "Python 3",
   "language": "python",
   "name": "python3"
  },
  "language_info": {
   "codemirror_mode": {
    "name": "ipython",
    "version": 3
   },
   "file_extension": ".py",
   "mimetype": "text/x-python",
   "name": "python",
   "nbconvert_exporter": "python",
   "pygments_lexer": "ipython3",
   "version": "3.6.7"
  }
 },
 "nbformat": 4,
 "nbformat_minor": 2
}
