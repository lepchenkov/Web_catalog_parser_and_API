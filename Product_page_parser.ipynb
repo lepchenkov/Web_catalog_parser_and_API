{
 "cells": [
  {
   "cell_type": "markdown",
   "metadata": {},
   "source": [
    "<h1>Product page parser</h1>"
   ]
  },
  {
   "cell_type": "markdown",
   "metadata": {},
   "source": [
    "<p>In this notebook we are going to parse a single product page.</p>\n",
    "<p>According to the task we should get the following: </p>\n",
    "<ul>\n",
    "  <li>categories</li>\n",
    "  <li>subcategories</li> \n",
    "  <li>name</li>\n",
    "  <li>price</li>\n",
    "  <li>description</li>\n",
    "  <li>charachteristics</li>\n",
    "  <li>similar products</li>\n",
    "  <li>product image link</li>\n",
    "  <li>if product is a hit or not</li>\n",
    "</ul> \n",
    "\n",
    "<h3><i>Important note</i></h3>\n",
    "<p>Categories and subcategories (both level 1 and level 2) we plan to extract from parsing table obtained from the catalog main page (the parsing table currently contains 1222 rows. Each row has a link to products page with multiple product cards).</p>\n",
    "\n",
    "<p>So from the product page we are going to extract the following:</p>\n",
    "<ol>\n",
    "  <li>name</li>\n",
    "  <li>price</li>\n",
    "  <li>description</li>\n",
    "  <li>charachteristics</li>\n",
    "  <li>similar products</li>\n",
    "  <li>product image link</li>\n",
    "  <li>if product is a hit or not</li>\n",
    "</ol> \n"
   ]
  },
  {
   "cell_type": "code",
   "execution_count": 5,
   "metadata": {},
   "outputs": [],
   "source": [
    "import requests\n",
    "import urllib.request\n",
    "import time\n",
    "from bs4 import BeautifulSoup as BSoup\n",
    "import pandas as pd\n",
    "import re\n",
    "import lxml\n",
    "import html5lib"
   ]
  },
  {
   "cell_type": "markdown",
   "metadata": {},
   "source": [
    "<p>We will develop our parser on a bosch drill webpage which seems to be the most complete and contains all the features, including hit tag.</p>"
   ]
  },
  {
   "cell_type": "code",
   "execution_count": 6,
   "metadata": {},
   "outputs": [],
   "source": [
    "#url = 'https://www.oma.by/tros-dlya-rastyazhki-din3055-d1-5-mm-1-238091-p'\n",
    "url = 'https://www.oma.by/perforator-bosch-pbh-2100-re-2-zubila-2-bura-1-216760-p'\n",
    "single_product_page = requests.get(url)\n",
    "product_page_soup = BSoup(single_product_page.text, 'html.parser')\n",
    "\n",
    "product_page_special_soup = BSoup(single_product_page.text, 'html5lib')"
   ]
  },
  {
   "cell_type": "markdown",
   "metadata": {},
   "source": [
    "<p style=\"color:green\"><b>1. name </b></p>"
   ]
  },
  {
   "cell_type": "code",
   "execution_count": 7,
   "metadata": {},
   "outputs": [
    {
     "name": "stdout",
     "output_type": "stream",
     "text": [
      "Перфоратор BOSCH PBH 2100 RE+2 зубила, 2 бура, Минск \n"
     ]
    }
   ],
   "source": [
    "product_name_raw = product_page_soup.select('div.page-title h1')\n",
    "product_name = product_name_raw[0].text\n",
    "print(product_name)"
   ]
  },
  {
   "cell_type": "markdown",
   "metadata": {},
   "source": [
    "<p style=\"color:green\"><b>2. price </b></p>"
   ]
  },
  {
   "cell_type": "code",
   "execution_count": 8,
   "metadata": {},
   "outputs": [
    {
     "name": "stdout",
     "output_type": "stream",
     "text": [
      "\n",
      "199,00\n"
     ]
    }
   ],
   "source": [
    "product_price_raw = product_page_soup.select('div.product-info-box_price')\n",
    "product_price_text_raw = product_price_raw[0].text\n",
    "product_price_text = product_price_text_raw.replace(\" \", \"\")\n",
    "product_price = str(product_price_text[:7])\n",
    "print(product_price)"
   ]
  },
  {
   "cell_type": "markdown",
   "metadata": {},
   "source": [
    "<p style=\"color:green\"><b>3. description</b></p>"
   ]
  },
  {
   "cell_type": "code",
   "execution_count": 9,
   "metadata": {},
   "outputs": [
    {
     "name": "stdout",
     "output_type": "stream",
     "text": [
      "\n",
      "                                    BOSCH PBH 2100 RE универсальный и эргономичный перфоратор для бытового использования. Имеет 3 режима работы: сверление, долбление и бурение. Развивает скорость до 2300 об/мин. Патрон SDS-Plus позволяет быстро менять насадки. Оснащен функцией блокировки удара через кнопку выключения. Доступно завинчивание/вывинчивание шурупов через режим реверса. Дополнительная рукоятка обеспечивает равномерное распределение нагрузки. В комплекте предусмотрен ограничитель глубины для регулировки размера отверстий. Поставляется в чемодане с 2 зубилами и 2 бурами.                                \n"
     ]
    }
   ],
   "source": [
    "product_description_raw = product_page_soup.select('article.catalog-item-description-txt_content')\n",
    "product_description = product_description_raw[0].text\n",
    "print(product_description)"
   ]
  },
  {
   "cell_type": "markdown",
   "metadata": {},
   "source": [
    "<p style=\"color:green\"><b>4. characteristics </b></p>"
   ]
  },
  {
   "cell_type": "code",
   "execution_count": 10,
   "metadata": {},
   "outputs": [
    {
     "name": "stdout",
     "output_type": "stream",
     "text": [
      "\n",
      "\n",
      "Общие характеристики\n",
      "\n",
      "\n",
      "\n",
      "Режим работы - сверление\n",
      "\n",
      "\n",
      "\n",
      "\n",
      "Режим работы - сверление                                                                    \n",
      "Возможность сверления.\n",
      "\n",
      "\n",
      "\n",
      "\n",
      "Да\n",
      "\n",
      "\n",
      "\n",
      "Режим работы - долбление\n",
      "\n",
      "Да\n",
      "\n",
      "\n",
      "\n",
      "Режимы работы - сверление с ударом\n",
      "\n",
      "Да\n",
      "\n",
      "\n",
      "\n",
      "Количество скоростей работы\n",
      "\n",
      "1\n",
      "\n",
      "\n",
      "\n",
      "Потребляемая мощность\n",
      "\n",
      "550\n",
      "\n",
      "\n",
      "\n",
      "Макс. число оборотов холостого хода\n",
      "\n",
      "2300\n",
      "\n",
      "\n",
      "\n",
      "Макс. количество ударов в минуту\n",
      "\n",
      "5800\n",
      "\n",
      "\n",
      "\n",
      "Макс. энергия удара\n",
      "\n",
      "1.7\n",
      "\n",
      "\n",
      "\n",
      "Питание\n",
      "\n",
      "сеть\n",
      "\n",
      "\n",
      "\n",
      "\n",
      "Технические характеристики\n",
      "\n",
      "\n",
      "\n",
      "Шуруповерт\n",
      "\n",
      "Да\n",
      "\n",
      "\n",
      "\n",
      "Тип крепления бура\n",
      "\n",
      "SDS-Plus\n",
      "\n",
      "\n",
      "\n",
      "Макс. диаметр сверления (дерево)\n",
      "\n",
      "30\n",
      "\n",
      "\n",
      "\n",
      "Макс. диаметр сверления (металл)\n",
      "\n",
      "13\n",
      "\n",
      "\n",
      "\n",
      "Макс. диаметр сверления (бетон)\n",
      "\n",
      "20\n",
      "\n",
      "\n",
      "\n",
      "\n",
      "Функциональные особенности\n",
      "\n",
      "\n",
      "\n",
      "Блокировка кнопки включения\n",
      "\n",
      "Да\n",
      "\n",
      "\n",
      "\n",
      "Фиксация шпинделя\n",
      "\n",
      "Да\n",
      "\n",
      "\n",
      "\n",
      "Электронная регулировка частоты вращения\n",
      "\n",
      "Да\n",
      "\n",
      "\n",
      "\n",
      "\n",
      "Комплектация\n",
      "\n",
      "\n",
      "\n",
      "Реверс\n",
      "\n",
      "Да\n",
      "\n",
      "\n",
      "\n",
      "Дополнительная рукоятка\n",
      "\n",
      "Да\n",
      "\n",
      "\n",
      "\n",
      "Кейс в комплекте\n",
      "\n",
      "Да\n",
      "\n",
      "\n",
      "\n",
      "Ограничитель глубины сверления\n",
      "\n",
      "Да\n",
      "\n",
      "\n",
      "\n",
      "Комплектация\n",
      "\n",
      "2 бура2 зубилаглубиномеринструкция по эксплуатациичемодан\n",
      "\n",
      "\n",
      "\n",
      "\n",
      "Размеры и вес\n",
      "\n",
      "\n",
      "\n",
      "Вес\n",
      "\n",
      "2.2\n",
      "\n",
      "\n",
      "\n",
      "\n",
      "\n",
      "\n",
      "\n",
      "                                    Все характеристики\n",
      "                                \n",
      "\n",
      "\n"
     ]
    }
   ],
   "source": [
    "product_characteristics_raw = product_page_soup.select('div.params-blocks')\n",
    "if len(product_characteristics_raw) != 0:\n",
    "    product_characteristics = product_characteristics_raw[0].text\n",
    "    print(product_characteristics)\n",
    "else:\n",
    "    print('No parameters found')"
   ]
  },
  {
   "cell_type": "markdown",
   "metadata": {},
   "source": [
    "<p style=\"color:red\"><b>5. similar products </b></p>\n",
    "<p>Failed to extract similar products.</p>"
   ]
  },
  {
   "cell_type": "code",
   "execution_count": 11,
   "metadata": {},
   "outputs": [
    {
     "name": "stdout",
     "output_type": "stream",
     "text": [
      "None\n"
     ]
    }
   ],
   "source": [
    "similar_products_raw = product_page_special_soup.find(id = \"sales_shared\")\n",
    "#similar_products_raw = product_page_soup.findAll('div',{'class':'sales_shared'})\n",
    "#similar > div\n",
    "#product_name = product_name_raw[0].text\n",
    "print(similar_products_raw)\n"
   ]
  },
  {
   "cell_type": "markdown",
   "metadata": {},
   "source": [
    "<p style=\"color:green\"><b>6. product image link </b></p>"
   ]
  },
  {
   "cell_type": "code",
   "execution_count": 12,
   "metadata": {},
   "outputs": [
    {
     "name": "stdout",
     "output_type": "stream",
     "text": [
      "https://www.oma.by/upload/Sh/imageCache/03a/cc1/1.216760-medium.jpg\n"
     ]
    }
   ],
   "source": [
    "product_image_link_raw = product_page_soup.select('div.slider-w-preview img')\n",
    "product_image_link = 'https://www.oma.by' + product_image_link_raw[0].get('src')\n",
    "print(product_image_link)"
   ]
  },
  {
   "cell_type": "markdown",
   "metadata": {},
   "source": [
    "<p style=\"color:green\"><b>7. if product is a hit or not </b></p>"
   ]
  },
  {
   "cell_type": "code",
   "execution_count": 13,
   "metadata": {},
   "outputs": [
    {
     "name": "stdout",
     "output_type": "stream",
     "text": [
      "[<span class=\"icon special-icon special-icon__hit product-item_special\"></span>]\n",
      "\n",
      "The product is hit!\n"
     ]
    }
   ],
   "source": [
    "hit_offer_raw = product_page_soup.findAll('span',{'class':'icon special-icon special-icon__hit product-item_special'})\n",
    "print(hit_offer_raw)\n",
    "if len(hit_offer_raw) != 0:\n",
    "    product_is_hit = True\n",
    "    print('\\nThe product is hit!')\n",
    "else:\n",
    "    product_is_hit = False\n",
    "    print('\\nThe product is not hit.')"
   ]
  },
  {
   "cell_type": "markdown",
   "metadata": {},
   "source": [
    "<h3>Create product table</h3>"
   ]
  },
  {
   "cell_type": "code",
   "execution_count": 14,
   "metadata": {},
   "outputs": [
    {
     "data": {
      "text/html": [
       "<div>\n",
       "<style scoped>\n",
       "    .dataframe tbody tr th:only-of-type {\n",
       "        vertical-align: middle;\n",
       "    }\n",
       "\n",
       "    .dataframe tbody tr th {\n",
       "        vertical-align: top;\n",
       "    }\n",
       "\n",
       "    .dataframe thead th {\n",
       "        text-align: right;\n",
       "    }\n",
       "</style>\n",
       "<table border=\"1\" class=\"dataframe\">\n",
       "  <thead>\n",
       "    <tr style=\"text-align: right;\">\n",
       "      <th></th>\n",
       "      <th>name</th>\n",
       "      <th>price</th>\n",
       "      <th>description</th>\n",
       "      <th>characteristics</th>\n",
       "      <th>product image link</th>\n",
       "      <th>is_hit</th>\n",
       "    </tr>\n",
       "  </thead>\n",
       "  <tbody>\n",
       "  </tbody>\n",
       "</table>\n",
       "</div>"
      ],
      "text/plain": [
       "Empty DataFrame\n",
       "Columns: [name, price, description, characteristics, product image link, is_hit]\n",
       "Index: []"
      ]
     },
     "execution_count": 14,
     "metadata": {},
     "output_type": "execute_result"
    }
   ],
   "source": [
    "product_df = pd.DataFrame(columns = ['name',\\\n",
    "                                     'price','description', 'characteristics', \\\n",
    "                                     'product image link', 'is_hit']) \n",
    "product_df"
   ]
  },
  {
   "cell_type": "code",
   "execution_count": 15,
   "metadata": {},
   "outputs": [
    {
     "data": {
      "text/html": [
       "<div>\n",
       "<style scoped>\n",
       "    .dataframe tbody tr th:only-of-type {\n",
       "        vertical-align: middle;\n",
       "    }\n",
       "\n",
       "    .dataframe tbody tr th {\n",
       "        vertical-align: top;\n",
       "    }\n",
       "\n",
       "    .dataframe thead th {\n",
       "        text-align: right;\n",
       "    }\n",
       "</style>\n",
       "<table border=\"1\" class=\"dataframe\">\n",
       "  <thead>\n",
       "    <tr style=\"text-align: right;\">\n",
       "      <th></th>\n",
       "      <th>name</th>\n",
       "      <th>price</th>\n",
       "      <th>description</th>\n",
       "      <th>characteristics</th>\n",
       "      <th>product image link</th>\n",
       "      <th>is_hit</th>\n",
       "    </tr>\n",
       "  </thead>\n",
       "  <tbody>\n",
       "    <tr>\n",
       "      <th>0</th>\n",
       "      <td>Перфоратор BOSCH PBH 2100 RE+2 зубила, 2 бура,...</td>\n",
       "      <td>\\n199,00</td>\n",
       "      <td>\\n                                    BOSCH PB...</td>\n",
       "      <td>\\n\\nОбщие характеристики\\n\\n\\n\\nРежим работы -...</td>\n",
       "      <td>https://www.oma.by/upload/Sh/imageCache/03a/cc...</td>\n",
       "      <td>True</td>\n",
       "    </tr>\n",
       "  </tbody>\n",
       "</table>\n",
       "</div>"
      ],
      "text/plain": [
       "                                                name     price  \\\n",
       "0  Перфоратор BOSCH PBH 2100 RE+2 зубила, 2 бура,...  \\n199,00   \n",
       "\n",
       "                                         description  \\\n",
       "0  \\n                                    BOSCH PB...   \n",
       "\n",
       "                                     characteristics  \\\n",
       "0  \\n\\nОбщие характеристики\\n\\n\\n\\nРежим работы -...   \n",
       "\n",
       "                                  product image link is_hit  \n",
       "0  https://www.oma.by/upload/Sh/imageCache/03a/cc...   True  "
      ]
     },
     "execution_count": 15,
     "metadata": {},
     "output_type": "execute_result"
    }
   ],
   "source": [
    "product_df.loc[0] = [product_name] + [product_price]  \\\n",
    "                  + [product_description] + [product_characteristics] \\\n",
    "                  + [product_image_link] + [product_is_hit]\n",
    "product_df.head()                       "
   ]
  },
  {
   "cell_type": "markdown",
   "metadata": {},
   "source": [
    "<h3>Product parameters function</h3>\n",
    "<p>Construct function that returns a dictionary with product parameters. That is sketchy version of a function. Later will be converted into normal view.</p> "
   ]
  },
  {
   "cell_type": "code",
   "execution_count": 16,
   "metadata": {},
   "outputs": [],
   "source": [
    "def get_product_parameters(soup):\n",
    "    \n",
    "    #product name\n",
    "    product_name_raw = product_page_soup.select('div.page-title h1')\n",
    "    product_name = product_name_raw[0].text\n",
    "    \n",
    "    #product_price\n",
    "    product_price_raw = product_page_soup.select('div.product-info-box_price')\n",
    "    product_price_text_raw = product_price_raw[0].text\n",
    "    product_price_text = product_price_text_raw.replace(\" \", \"\")\n",
    "    product_price = str(product_price_text[:7])\n",
    "    \n",
    "    #product_description\n",
    "    product_description_raw = product_page_soup.select('article.catalog-item-description-txt_content')\n",
    "    product_description = product_description_raw[0].text\n",
    "    \n",
    "    #product_characteristics\n",
    "    product_characteristics_raw = product_page_soup.select('div.params-blocks')\n",
    "    if len(product_characteristics_raw) != 0:\n",
    "        product_characteristics = product_characteristics_raw[0].text\n",
    "    else:\n",
    "        product_characteristics = ''\n",
    "        \n",
    "    #similar_products\n",
    "    similar_products = ''\n",
    "        \n",
    "    #product_image_link    \n",
    "    product_image_link_raw = product_page_soup.select('div.slider-w-preview img')\n",
    "    product_image_link = 'https://www.oma.by' + product_image_link_raw[0].get('src')\n",
    "    \n",
    "    #product_is_hit\n",
    "    hit_offer_raw = product_page_soup.findAll('span',{'class':'icon special-icon special-icon__hit product-item_special'})\n",
    "    if len(hit_offer_raw) != 0:\n",
    "        product_is_hit = True\n",
    "\n",
    "    else:\n",
    "        product_is_hit = False\n",
    "\n",
    "                                                      \n",
    "    dict = {\n",
    "        'product_name' : product_name,\n",
    "        'product_price' : product_price,\n",
    "        'product_description' : product_description,\n",
    "        'product_characteristics' : product_characteristics,\n",
    "        'similar_products' : similar_products,\n",
    "        'product_image_link' : product_image_link,\n",
    "        'product_is_hit' : product_is_hit,\n",
    "    }\n",
    "    \n",
    "    \n",
    "    return dict\n",
    "    "
   ]
  },
  {
   "cell_type": "code",
   "execution_count": 17,
   "metadata": {},
   "outputs": [
    {
     "name": "stdout",
     "output_type": "stream",
     "text": [
      "\n",
      "\n",
      "product_name Перфоратор BOSCH PBH 2100 RE+2 зубила, 2 бура, Минск \n",
      "\n",
      "\n",
      "product_price \n",
      "199,00\n",
      "\n",
      "\n",
      "product_description \n",
      "                                    BOSCH PBH 2100 RE универсальный и эргономичный перфоратор для бытового использования. Имеет 3 режима работы: сверление, долбление и бурение. Развивает скорость до 2300 об/мин. Патрон SDS-Plus позволяет быстро менять насадки. Оснащен функцией блокировки удара через кнопку выключения. Доступно завинчивание/вывинчивание шурупов через режим реверса. Дополнительная рукоятка обеспечивает равномерное распределение нагрузки. В комплекте предусмотрен ограничитель глубины для регулировки размера отверстий. Поставляется в чемодане с 2 зубилами и 2 бурами.                                \n",
      "\n",
      "\n",
      "product_characteristics \n",
      "\n",
      "Общие характеристики\n",
      "\n",
      "\n",
      "\n",
      "Режим работы - сверление\n",
      "\n",
      "\n",
      "\n",
      "\n",
      "Режим работы - сверление                                                                    \n",
      "Возможность сверления.\n",
      "\n",
      "\n",
      "\n",
      "\n",
      "Да\n",
      "\n",
      "\n",
      "\n",
      "Режим работы - долбление\n",
      "\n",
      "Да\n",
      "\n",
      "\n",
      "\n",
      "Режимы работы - сверление с ударом\n",
      "\n",
      "Да\n",
      "\n",
      "\n",
      "\n",
      "Количество скоростей работы\n",
      "\n",
      "1\n",
      "\n",
      "\n",
      "\n",
      "Потребляемая мощность\n",
      "\n",
      "550\n",
      "\n",
      "\n",
      "\n",
      "Макс. число оборотов холостого хода\n",
      "\n",
      "2300\n",
      "\n",
      "\n",
      "\n",
      "Макс. количество ударов в минуту\n",
      "\n",
      "5800\n",
      "\n",
      "\n",
      "\n",
      "Макс. энергия удара\n",
      "\n",
      "1.7\n",
      "\n",
      "\n",
      "\n",
      "Питание\n",
      "\n",
      "сеть\n",
      "\n",
      "\n",
      "\n",
      "\n",
      "Технические характеристики\n",
      "\n",
      "\n",
      "\n",
      "Шуруповерт\n",
      "\n",
      "Да\n",
      "\n",
      "\n",
      "\n",
      "Тип крепления бура\n",
      "\n",
      "SDS-Plus\n",
      "\n",
      "\n",
      "\n",
      "Макс. диаметр сверления (дерево)\n",
      "\n",
      "30\n",
      "\n",
      "\n",
      "\n",
      "Макс. диаметр сверления (металл)\n",
      "\n",
      "13\n",
      "\n",
      "\n",
      "\n",
      "Макс. диаметр сверления (бетон)\n",
      "\n",
      "20\n",
      "\n",
      "\n",
      "\n",
      "\n",
      "Функциональные особенности\n",
      "\n",
      "\n",
      "\n",
      "Блокировка кнопки включения\n",
      "\n",
      "Да\n",
      "\n",
      "\n",
      "\n",
      "Фиксация шпинделя\n",
      "\n",
      "Да\n",
      "\n",
      "\n",
      "\n",
      "Электронная регулировка частоты вращения\n",
      "\n",
      "Да\n",
      "\n",
      "\n",
      "\n",
      "\n",
      "Комплектация\n",
      "\n",
      "\n",
      "\n",
      "Реверс\n",
      "\n",
      "Да\n",
      "\n",
      "\n",
      "\n",
      "Дополнительная рукоятка\n",
      "\n",
      "Да\n",
      "\n",
      "\n",
      "\n",
      "Кейс в комплекте\n",
      "\n",
      "Да\n",
      "\n",
      "\n",
      "\n",
      "Ограничитель глубины сверления\n",
      "\n",
      "Да\n",
      "\n",
      "\n",
      "\n",
      "Комплектация\n",
      "\n",
      "2 бура2 зубилаглубиномеринструкция по эксплуатациичемодан\n",
      "\n",
      "\n",
      "\n",
      "\n",
      "Размеры и вес\n",
      "\n",
      "\n",
      "\n",
      "Вес\n",
      "\n",
      "2.2\n",
      "\n",
      "\n",
      "\n",
      "\n",
      "\n",
      "\n",
      "\n",
      "                                    Все характеристики\n",
      "                                \n",
      "\n",
      "\n",
      "\n",
      "\n",
      "similar_products \n",
      "\n",
      "\n",
      "product_image_link https://www.oma.by/upload/Sh/imageCache/03a/cc1/1.216760-medium.jpg\n",
      "\n",
      "\n",
      "product_is_hit True\n"
     ]
    }
   ],
   "source": [
    "product_parameters_dict = get_product_parameters(product_page_soup)\n",
    "for param in product_parameters_dict:\n",
    "    print(f'\\n\\n{param} {product_parameters_dict[param]}')"
   ]
  },
  {
   "cell_type": "code",
   "execution_count": 1,
   "metadata": {},
   "outputs": [],
   "source": [
    "import parser"
   ]
  },
  {
   "cell_type": "code",
   "execution_count": 2,
   "metadata": {},
   "outputs": [
    {
     "ename": "NameError",
     "evalue": "name 'print_hello' is not defined",
     "output_type": "error",
     "traceback": [
      "\u001b[0;31m---------------------------------------------------------------------------\u001b[0m",
      "\u001b[0;31mNameError\u001b[0m                                 Traceback (most recent call last)",
      "\u001b[0;32m<ipython-input-2-24a2507c9d0c>\u001b[0m in \u001b[0;36m<module>\u001b[0;34m\u001b[0m\n\u001b[0;32m----> 1\u001b[0;31m \u001b[0mprint_hello\u001b[0m\u001b[0;34m(\u001b[0m\u001b[0;34m)\u001b[0m\u001b[0;34m\u001b[0m\u001b[0m\n\u001b[0m",
      "\u001b[0;31mNameError\u001b[0m: name 'print_hello' is not defined"
     ]
    }
   ],
   "source": [
    "print_hello()"
   ]
  },
  {
   "cell_type": "code",
   "execution_count": null,
   "metadata": {},
   "outputs": [],
   "source": []
  }
 ],
 "metadata": {
  "kernelspec": {
   "display_name": "Python 3",
   "language": "python",
   "name": "python3"
  },
  "language_info": {
   "codemirror_mode": {
    "name": "ipython",
    "version": 3
   },
   "file_extension": ".py",
   "mimetype": "text/x-python",
   "name": "python",
   "nbconvert_exporter": "python",
   "pygments_lexer": "ipython3",
   "version": "3.6.4"
  }
 },
 "nbformat": 4,
 "nbformat_minor": 2
}
