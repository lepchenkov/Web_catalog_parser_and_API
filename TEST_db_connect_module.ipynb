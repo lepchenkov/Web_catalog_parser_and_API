{
 "cells": [
  {
   "cell_type": "markdown",
   "metadata": {},
   "source": [
    "<h1>Test db_connect.py</h1>"
   ]
  },
  {
   "cell_type": "code",
   "execution_count": 1,
   "metadata": {},
   "outputs": [
    {
     "name": "stdout",
     "output_type": "stream",
     "text": [
      "['/home/kiryl/Documents/Projects/Website_Parser', '/home/kiryl/Documents/Environments/scraper/lib/python36.zip', '/home/kiryl/Documents/Environments/scraper/lib/python3.6', '/home/kiryl/Documents/Environments/scraper/lib/python3.6/lib-dynload', '/usr/lib/python3.6', '', '/home/kiryl/Documents/Environments/scraper/lib/python3.6/site-packages', '/home/kiryl/Documents/Environments/scraper/lib/python3.6/site-packages/IPython/extensions', '/home/kiryl/.ipython']\n"
     ]
    }
   ],
   "source": [
    "import sys\n",
    "import os\n",
    "dir_path = os.getcwd()\n",
    "sys.path.insert(0,dir_path)\n",
    "print(sys.path)"
   ]
  },
  {
   "cell_type": "code",
   "execution_count": 2,
   "metadata": {},
   "outputs": [],
   "source": [
    "from parse import simple_get, get_soup, get_product_parameters\n",
    "from parse import parse_product_info_into_db\n",
    "\n",
    "from db_connect import *"
   ]
  },
  {
   "cell_type": "markdown",
   "metadata": {},
   "source": [
    "<h3>Test simple db connection and retrieve operation</h3>"
   ]
  },
  {
   "cell_type": "code",
   "execution_count": 3,
   "metadata": {},
   "outputs": [
    {
     "name": "stdout",
     "output_type": "stream",
     "text": [
      "\n",
      " id: 8779\n",
      "\n",
      " url: https://www.oma.by/ugolok-d-plitki-pvkh-11-12-mm-naruzhnyy-2-5m-belyy-2-260638-p\n",
      "\n",
      " category: Отделка\n",
      "\n",
      " subcategory lvl 1: Плитка\n",
      "\n",
      " subcategory lvl 2: Аксессуары для плитки\n"
     ]
    },
    {
     "name": "stderr",
     "output_type": "stream",
     "text": [
      "/home/kiryl/Documents/Environments/scraper/lib/python3.6/site-packages/psycopg2/__init__.py:144: UserWarning: The psycopg2 wheel package will be renamed from release 2.8; in order to keep installing from binary please use \"pip install psycopg2-binary\" instead. For details see: <http://initd.org/psycopg/docs/install.html#binary-install-from-pypi>.\n",
      "  \"\"\")\n"
     ]
    }
   ],
   "source": [
    "#instantiate database connection using Posgres_db class from db_connect.py\n",
    "db_connection = Postgres_db()\n",
    "result = db_connection.query(\"SELECT * FROM products_all WHERE id=8779\")\n",
    "for entry in result:  \n",
    "    print(f'\\n id: {entry.id}')\n",
    "    print(f'\\n url: {entry.url}')\n",
    "    print(f'\\n category: {entry.category}')\n",
    "    print(f'\\n subcategory lvl 1: {entry.subcategory_lvl1}')\n",
    "    print(f'\\n subcategory lvl 2: {entry.subcategory_lvl2}')\n",
    "    \n",
    "\n",
    "products_all = db_connection.reflect_table('products_all')"
   ]
  },
  {
   "cell_type": "markdown",
   "metadata": {},
   "source": [
    "<h3>Test table reflection</h3>"
   ]
  },
  {
   "cell_type": "code",
   "execution_count": 4,
   "metadata": {},
   "outputs": [
    {
     "name": "stdout",
     "output_type": "stream",
     "text": [
      "\n",
      "\n",
      "{'product_name': 'Плитка для ванной Керамин Мишель 7С панно тип 2 декор 400 x 275 мм, Минск ', 'product_price': 5.8, 'product_description': '\\n                                    Плитка для ванной Керамин Мишель 7С панно тип 2 предназначена для облицовки стен в ванной. Изготовлена из керамики. Добавляет интерьеру эффектный и органичный вид. Плитка обладает стойкостью к истиранию, перепадам температур, воздействию чистящих средств. Подходит для декора помещений в любом стиле. Цвет - зеленый. Размеры - 400 x 275 мм.', 'product_characteristics': 'Бренд товараБрендКераминОсновные характеристикиМатериалкерамикаВиддекорНазначениедля ванной комнатыдля кухниТип поверхностиматоваяЦветбежевыйКоллекцияМишель/MishelДля отделкивнутри помещенийРазмеры и количествоДлина плитки, мм400Ширина плитки, мм275Площадь одной плитки, м20.11Количество штук в 1 м29.091Количество в упаковке, шт13                                    Все характеристики', 'similar_products': '', 'product_image_link': 'https://www.oma.by/upload/Sh/imageCache/721/d83/2.174872-medium.jpg', 'product_is_trend': False}\n",
      "9022 is parsed\n",
      "\n",
      "\n",
      "{'product_name': 'Плитка для ванной Beryoza Ceramica Квадро белый 250х350 мм, Минск ', 'product_price': 15.4, 'product_description': '\\n                                    Плитка для ванной Beryoza Ceramica Квадро предназначена для облицовки стен в ванной. Изготовлена из керамики. Добавляет интерьеру эффектный и органичный вид. Плитка обладает стойкостью к истиранию, перепадам температур, воздействию чистящих средств. Подходит для декора помещений в любом стиле. Цвет - белый. Размеры - 250х350 мм.', 'product_characteristics': 'Бренд товараБрендBeryoza CeramicaОсновные характеристикиМатериалкерамикаВиднастеннаяНазначениедля ванной комнатыдля кухниТип поверхностиглянцевая (полированная)СтруктурарельефнаяЦветбелыйКоллекцияКвадро/KvadroИмитация фактурымозаикаДля отделкивнутри помещенийРазмеры и количествоДлина плитки, мм350Ширина плитки, мм250Площадь одной плитки, м20.088Количество штук в 1 м211.43Количество в упаковке, шт16                                    Все характеристики', 'similar_products': '', 'product_image_link': 'https://www.oma.by/upload/Sh/imageCache/c5c/949/2.176085-medium.jpg', 'product_is_trend': False}\n",
      "9023 is parsed\n"
     ]
    }
   ],
   "source": [
    "db = Postgres_db()\n",
    "initial_select_string = 'SELECT * FROM products_all WHERE is_parsed IS NULL LIMIT 2'\n",
    "entries_to_parse = db.query(initial_select_string)\n",
    "products_all = db.reflect_table('products_all')\n",
    "\n",
    "for entry in entries_to_parse: \n",
    "    response = simple_get(entry.url)\n",
    "    soup = get_soup(response)\n",
    "    p_dict = get_product_parameters(soup)\n",
    "    print(f'\\n\\n{p_dict}')\n",
    "    dt = datetime.now()\n",
    "    if entry.is_parsed == None:\n",
    "        update_sttm = products_all.update().where(products_all.c.id==entry.id).values(product_name = p_dict['product_name'], \\\n",
    "                                                                                      product_price = float(p_dict['product_price']), \\\n",
    "                                                                                      product_description = p_dict['product_description'], \\\n",
    "                                                                                      product_characteristics = p_dict['product_characteristics'], \\\n",
    "                                                                                      similar_products = p_dict['similar_products'], \\\n",
    "                                                                                      product_image_link = p_dict['product_image_link'], \\\n",
    "                                                                                      product_is_hit = p_dict['product_is_trend'], \\\n",
    "                                                                                      is_parsed = dt)                                                                                                    \n",
    "        db.query(update_sttm)\n",
    "        print(f'{entry.id} is parsed')\n"
   ]
  },
  {
   "cell_type": "markdown",
   "metadata": {},
   "source": [
    "<h3>Test <i>parse_product_info_into_db</i> fuction from parse.py module</h3>"
   ]
  },
  {
   "cell_type": "code",
   "execution_count": 9,
   "metadata": {},
   "outputs": [
    {
     "name": "stdout",
     "output_type": "stream",
     "text": [
      "number of parsed items: 20\n",
      "\n",
      "CPU times: user 9.91 s, sys: 35.9 ms, total: 9.94 s\n",
      "Wall time: 24.3 s\n"
     ]
    }
   ],
   "source": [
    "%%time\n",
    "parsed_count = parse_product_info_into_db(number_of_entries_to_parse = 20)\n",
    "print(f'number of parsed items: {parsed_count}\\n')"
   ]
  }
 ],
 "metadata": {
  "kernelspec": {
   "display_name": "Python 3",
   "language": "python",
   "name": "python3"
  },
  "language_info": {
   "codemirror_mode": {
    "name": "ipython",
    "version": 3
   },
   "file_extension": ".py",
   "mimetype": "text/x-python",
   "name": "python",
   "nbconvert_exporter": "python",
   "pygments_lexer": "ipython3",
   "version": "3.6.7"
  }
 },
 "nbformat": 4,
 "nbformat_minor": 2
}
