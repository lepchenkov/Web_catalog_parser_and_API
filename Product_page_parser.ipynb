{
 "cells": [
  {
   "cell_type": "markdown",
   "metadata": {},
   "source": [
    "<h1>Product page parser</h1>"
   ]
  },
  {
   "cell_type": "markdown",
   "metadata": {},
   "source": [
    "<p>In this notebook we are going to parse a single product page.</p>\n",
    "<p>According to the task we should get the following: </p>\n",
    "<ol>\n",
    "  <li>categories</li>\n",
    "  <li>subcategories</li> \n",
    "  <li>name</li>\n",
    "  <li>price</li>\n",
    "  <li>description</li>\n",
    "  <li>charachteristics</li>\n",
    "  <li>similar products</li>\n",
    "  <li>product image link</li>\n",
    "  <li>if product is a hit or not</li>\n",
    "</ol> \n",
    "\n",
    "<h3><i>Important note</i></h3>\n",
    "<p>Categories and subcategories (both level 1 and level 2) we plan to extract from parsing table obtained from the catalog main page (the parsing table currently contains 1222 rows. Each row has a link to products page with multiple product cards).</p>\n",
    "\n",
    "<p>So from the product page we are going to extract the following:</p>\n",
    "<ol>\n",
    "  <li>name</li>\n",
    "  <li>price</li>\n",
    "  <li>description</li>\n",
    "  <li>charachteristics</li>\n",
    "  <li>similar products</li>\n",
    "  <li>product image link</li>\n",
    "  <li>if product is a hit or not</li>\n",
    "</ol> \n"
   ]
  },
  {
   "cell_type": "code",
   "execution_count": 1,
   "metadata": {},
   "outputs": [],
   "source": [
    "import requests\n",
    "import urllib.request\n",
    "import time\n",
    "from bs4 import BeautifulSoup as BSoup\n",
    "import pandas as pd\n",
    "import re"
   ]
  },
  {
   "cell_type": "markdown",
   "metadata": {},
   "source": [
    "<p>We will develop our parser on a bosch drill webpage which seems to be the most complete and contains all the features, including hit tag.</p>"
   ]
  },
  {
   "cell_type": "code",
   "execution_count": 2,
   "metadata": {},
   "outputs": [],
   "source": [
    "url = 'https://www.oma.by/perforator-bosch-pbh-2100-re-2-zubila-2-bura-1-216760-p'\n",
    "oma_main_html = requests.get(url)\n",
    "product_page_soup = BSoup(oma_main_html.text, 'html.parser')"
   ]
  },
  {
   "cell_type": "markdown",
   "metadata": {},
   "source": [
    "<p style=\"color:green\"><b>1. name </b></p>"
   ]
  },
  {
   "cell_type": "code",
   "execution_count": 6,
   "metadata": {},
   "outputs": [
    {
     "name": "stdout",
     "output_type": "stream",
     "text": [
      "Перфоратор BOSCH PBH 2100 RE+2 зубила, 2 бура, Минск \n"
     ]
    }
   ],
   "source": [
    "product_name_raw = product_page_soup.select('div.page-title h1')\n",
    "product_name = product_name_raw[0].text\n",
    "print(product_name)"
   ]
  },
  {
   "cell_type": "markdown",
   "metadata": {},
   "source": [
    "<p style=\"color:green\"><b>2. price </b></p>"
   ]
  },
  {
   "cell_type": "code",
   "execution_count": 28,
   "metadata": {},
   "outputs": [
    {
     "name": "stdout",
     "output_type": "stream",
     "text": [
      "\n",
      "199,00\n"
     ]
    }
   ],
   "source": [
    "product_price_raw = product_page_soup.select('div.product-info-box_price')\n",
    "product_price_text_raw = product_price_raw[0].text\n",
    "product_price_text = product_price_text_raw.replace(\" \", \"\")\n",
    "product_price = product_price_text[:7]\n",
    "print(product_price)"
   ]
  },
  {
   "cell_type": "markdown",
   "metadata": {},
   "source": [
    "<p style=\"color:green\"><b>3. description</b></p>"
   ]
  },
  {
   "cell_type": "markdown",
   "metadata": {},
   "source": [
    "<p style=\"color:green\"><b>4. characteristics </b></p>"
   ]
  },
  {
   "cell_type": "markdown",
   "metadata": {},
   "source": [
    "<p style=\"color:green\"><b>5. similar products </b></p>"
   ]
  },
  {
   "cell_type": "markdown",
   "metadata": {},
   "source": [
    "<p style=\"color:green\"><b>6. product image link </b></p>"
   ]
  },
  {
   "cell_type": "markdown",
   "metadata": {},
   "source": [
    "<p style=\"color:green\"><b>7. if product is a hit or not </b></p>"
   ]
  }
 ],
 "metadata": {
  "kernelspec": {
   "display_name": "Python 3",
   "language": "python",
   "name": "python3"
  },
  "language_info": {
   "codemirror_mode": {
    "name": "ipython",
    "version": 3
   },
   "file_extension": ".py",
   "mimetype": "text/x-python",
   "name": "python",
   "nbconvert_exporter": "python",
   "pygments_lexer": "ipython3",
   "version": "3.6.7"
  }
 },
 "nbformat": 4,
 "nbformat_minor": 2
}
