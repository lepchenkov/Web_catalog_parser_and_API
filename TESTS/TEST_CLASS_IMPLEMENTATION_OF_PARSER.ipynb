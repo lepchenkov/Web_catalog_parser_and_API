{
 "cells": [
  {
   "cell_type": "markdown",
   "metadata": {},
   "source": [
    "<h1>Test class implementation of parse.py</h1>"
   ]
  },
  {
   "cell_type": "code",
   "execution_count": 1,
   "metadata": {},
   "outputs": [
    {
     "name": "stdout",
     "output_type": "stream",
     "text": [
      "['/home/kiryl/Documents/Projects/Website_Parser', '/home/kiryl/Documents/Projects/Website_Parser/TESTS', '/home/kiryl/Documents/Environments/scraper/lib/python36.zip', '/home/kiryl/Documents/Environments/scraper/lib/python3.6', '/home/kiryl/Documents/Environments/scraper/lib/python3.6/lib-dynload', '/usr/lib/python3.6', '', '/home/kiryl/Documents/Environments/scraper/lib/python3.6/site-packages', '/home/kiryl/Documents/Environments/scraper/lib/python3.6/site-packages/IPython/extensions', '/home/kiryl/.ipython']\n"
     ]
    }
   ],
   "source": [
    "import sys\n",
    "import os\n",
    "dir_path = os.getcwd()\n",
    "sys.path.insert(0,dir_path)\n",
    "sys.path.insert(0,'/home/kiryl/Documents/Projects/Website_Parser')\n",
    "print(sys.path)"
   ]
  },
  {
   "cell_type": "code",
   "execution_count": 2,
   "metadata": {},
   "outputs": [],
   "source": [
    "from parse import Parser"
   ]
  },
  {
   "cell_type": "markdown",
   "metadata": {},
   "source": [
    "<h3>Test parser instance</h3>"
   ]
  },
  {
   "cell_type": "code",
   "execution_count": 3,
   "metadata": {},
   "outputs": [],
   "source": [
    "parser = Parser()\n",
    "\n",
    "# i = 0\n",
    "# for name, parent_name  in parser.get_lvl1_subcategories():\n",
    "#     print(i)\n",
    "#     print(name)\n",
    "#     print(parent_name)\n",
    "#     print('\\n')\n",
    "#     i += 1\n",
    "    \n"
   ]
  },
  {
   "cell_type": "code",
   "execution_count": 4,
   "metadata": {},
   "outputs": [],
   "source": [
    "# for name, parent_name, g_parent_name, url  in parser.get_lvl2_subcategories():\n",
    "#     print(i)\n",
    "#     print(g_parent_name)\n",
    "#     print(parent_name)\n",
    "#     print(name)\n",
    "#     print(url)\n",
    "#     print('\\n')\n",
    "#     i += 1"
   ]
  },
  {
   "cell_type": "code",
   "execution_count": 5,
   "metadata": {
    "scrolled": true
   },
   "outputs": [],
   "source": [
    "# i = 0\n",
    "# for tuple_ in parser.get_product_link():\n",
    "#     print(i)\n",
    "#     print(tuple_)\n",
    "#     print('\\n')\n",
    "#     i += 1\n",
    "#     if i == 10:\n",
    "#         break"
   ]
  },
  {
   "cell_type": "code",
   "execution_count": 6,
   "metadata": {},
   "outputs": [
    {
     "name": "stdout",
     "output_type": "stream",
     "text": [
      "CPU times: user 2 µs, sys: 0 ns, total: 2 µs\n",
      "Wall time: 3.58 µs\n",
      "0\n",
      "Инструменты, крепёж\n",
      "Анкеры\n",
      "Болты анкерные\n",
      "https://www.oma.by/ankernyy-bolt-s-gaykoy-10kh130-mm-1-211171-p\n",
      "\n",
      "\n",
      "{'product_name': 'Анкерный болт с гайкой 10х130 мм, Минск ', 'price_integer_part': '1', 'price_fraction_part': '10', 'product_unit': '/шт', 'product_description': '                                    Анкерный болт используется для крепления тяжеловесных и нагруженных деталей к более прочным и полнотелым основаниям. Изделие выполнено из стали с оцинкованной поверхностью. Состоит из втулки, шпильки с конусом на конце и гайки-прокладки. Размер анкерного болта — 10х130 мм.', 'product_characteristics': {'Назначение': 'для бетонадля кирпича', 'Диаметр установки': '10', 'Длина анкера': '135', 'Ширина, см': '1', 'Длина, см': '1', 'Высота, см': '1', 'Вес нетто, кг': '1', 'Единицы измерения': 'шт'}, 'similar_products': '', 'product_image_url': 'https://www.oma.by/upload/Sh/imageCache/46d/cdb/1.211171-medium.jpg', 'product_is_trend': False}\n",
      "\n",
      "\n",
      "\n",
      "1\n",
      "Инструменты, крепёж\n",
      "Анкеры\n",
      "Болты анкерные\n",
      "https://www.oma.by/ankernyy-bolt-s-gaykoy-8kh85-mm-1-115013-p\n",
      "\n",
      "\n",
      "{'product_name': 'Анкерный болт с гайкой 8х85 мм, Минск ', 'price_integer_part': '0', 'price_fraction_part': '50', 'product_unit': '/шт', 'product_description': '                                    Анкерный болт с гайкой предназначен для крепления конструкций к бетону, кирпичу. Состоит из втулки, шпильки с конусом на конце и гайки-прокладки. Диаметр сверла составляет 8 мм, длина анкера — 85 мм. Подходит для прикрепляемых материалов толщиной до 40 мм. Резьба — М6. Максимальная нагрузка на выдергивание составляет 1200 Кгс.', 'product_characteristics': {'Назначение': 'для бетонадля кирпича', 'Диаметр установки': '8', 'Длина анкера': '85', 'Бренд': 'Suzhou Hongly Hardware', 'Ширина, см': '2', 'Длина, см': '10', 'Высота, см': '1', 'Вес нетто, кг': '0.1', 'Единицы измерения': 'шт'}, 'similar_products': '', 'product_image_url': 'https://www.oma.by/upload/Sh/imageCache/cb7/2b0/1.115013-medium.jpg', 'product_is_trend': False}\n",
      "\n",
      "\n",
      "\n",
      "2\n",
      "Инструменты, крепёж\n",
      "Анкеры\n",
      "Болты анкерные\n",
      "https://www.oma.by/ankernyy-bolt-s-gaykoy-10-0kh-95-97-mm-10-sht-1-158119-p\n",
      "\n",
      "\n",
      "{'product_name': 'Анкерный болт с гайкой 10,0х 95/97 мм 10 шт, Минск ', 'price_integer_part': '9', 'price_fraction_part': '07', 'product_unit': '/упаковка', 'product_description': '                                    Анкерный болт 10,0х 95/97 мм используется для крепления тяжеловесных и нагруженных деталей к более прочным и полнотелым основаниям. Изделие выполнено из стали с оцинкованной поверхностью. Состоит из втулки, шпильки с конусом на конце и гайки-прокладки. Резьба — М10, минимальная вырывающая сила 1700 Кгс. Фасовка 10 штук.', 'product_characteristics': {'Назначение': 'для бетонадля кирпича', 'Диаметр установки': '10', 'Длина анкера': '100', 'Фасовка': '10', 'Бренд': 'Ningbo sun-apls industry', 'Ширина, см': '12', 'Длина, см': '18', 'Высота, см': '3.5', 'Вес нетто, кг': '0.501', 'Единицы измерения': 'упаковка'}, 'similar_products': '', 'product_image_url': 'https://www.oma.by/upload/Sh/imageCache/070/de7/1.158119-medium.jpg', 'product_is_trend': False}\n",
      "\n",
      "\n",
      "\n",
      "3\n",
      "Инструменты, крепёж\n",
      "Анкеры\n",
      "Болты анкерные\n",
      "https://www.oma.by/ankernyy-bolt-s-kryuchkom-8kh40-mm-1-117543-p\n",
      "\n",
      "\n",
      "{'product_name': 'Анкерный болт с крючком 8х40 мм, Минск ', 'price_integer_part': '0', 'price_fraction_part': '60', 'product_unit': '/шт', 'product_description': '                                    Анкерный болт с крючком используется для крепления тяжеловесных конструкций к полнотелому бетону, кирпичу. Обеспечивает надежное соединение. Размер болта составляет 8х40 мм. Максимальная нагрузка на выдергивание составляет 1200 Кгс.', 'product_characteristics': {'Назначение': 'для бетонадля камнядля кирпича', 'Покрытие': 'оцинкованный', 'Материал': 'сталь', 'Диаметр установки': '8', 'Длина анкера': '40', 'Бренд': 'Ningbo sun-apls industry', 'Ширина, см': '2.5', 'Длина, см': '7', 'Высота, см': '1', 'Вес нетто, кг': '0.02', 'Единицы измерения': 'шт'}, 'similar_products': '', 'product_image_url': 'https://www.oma.by/upload/Sh/imageCache/ab3/284/1.117543-medium.jpg', 'product_is_trend': False}\n",
      "\n",
      "\n",
      "\n",
      "4\n",
      "Инструменты, крепёж\n",
      "Анкеры\n",
      "Болты анкерные\n",
      "https://www.oma.by/ankernyy-bolt-s-gaykoy-12kh150-mm-1-211175-p\n",
      "\n",
      "\n",
      "{'product_name': 'Анкерный болт с гайкой 12х150 мм, Минск ', 'price_integer_part': '1', 'price_fraction_part': '78', 'product_unit': '/шт', 'product_description': '                                    Анкерный болт используется для крепления тяжеловесных и нагруженных деталей к более прочным и полнотелым основаниям. Изделие выполнено из стали с оцинкованной поверхностью. Состоит из втулки, шпильки с конусом на конце и гайки-прокладки. Размер анкерного болта — 12х150 мм.', 'product_characteristics': {'Назначение': 'для бетонадля кирпича', 'Диаметр установки': '12', 'Длина анкера': '155', 'Ширина, см': '2', 'Длина, см': '15.5', 'Высота, см': '2', 'Вес нетто, кг': '0.2', 'Единицы измерения': 'шт'}, 'similar_products': '', 'product_image_url': 'https://www.oma.by/upload/Sh/imageCache/dd4/2ec/1.211175-medium.jpg', 'product_is_trend': False}\n",
      "\n",
      "\n",
      "\n"
     ]
    }
   ],
   "source": [
    "%time\n",
    "i = 0\n",
    "for url, p_name_, g_p_name_, g_g_p_name_ in parser.get_product_link():\n",
    "    print(i)\n",
    "    print(g_g_p_name_)\n",
    "    print(g_p_name_)\n",
    "    print(p_name_)\n",
    "    print(url)\n",
    "    print('\\n')\n",
    "    print(parser.get_product_parameters(url))\n",
    "    print('\\n\\n')\n",
    "    i += 1\n",
    "    if i == 5:\n",
    "        break"
   ]
  },
  {
   "cell_type": "code",
   "execution_count": null,
   "metadata": {},
   "outputs": [],
   "source": []
  }
 ],
 "metadata": {
  "kernelspec": {
   "display_name": "Python 3",
   "language": "python",
   "name": "python3"
  },
  "language_info": {
   "codemirror_mode": {
    "name": "ipython",
    "version": 3
   },
   "file_extension": ".py",
   "mimetype": "text/x-python",
   "name": "python",
   "nbconvert_exporter": "python",
   "pygments_lexer": "ipython3",
   "version": "3.6.7"
  }
 },
 "nbformat": 4,
 "nbformat_minor": 2
}
