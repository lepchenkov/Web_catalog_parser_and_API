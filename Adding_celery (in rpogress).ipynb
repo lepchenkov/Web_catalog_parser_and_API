{
 "cells": [
  {
   "cell_type": "markdown",
   "metadata": {},
   "source": [
    "<h1>Adding celery </h1>\n",
    "<p>Installed celerry and rabbitmg-server to local env.</p>"
   ]
  },
  {
   "cell_type": "markdown",
   "metadata": {},
   "source": [
    "There are three main things in this setup:\n",
    "\n",
    "1. Client app (something to run assynchronously)\n",
    "2. Message queu (we will use Rabbit MQ)\n",
    "3. Celery listens to messaqe queue, looking for new tasks to execute. Once it has one to run it will run outside your app"
   ]
  },
  {
   "cell_type": "markdown",
   "metadata": {},
   "source": [
    "<p>Commands:</p>\n",
    "\n",
    "<i>#to check if rabbitMQ server is working</i>\n",
    "<p>sudo rabbitmqctl status</p>"
   ]
  },
  {
   "cell_type": "markdown",
   "metadata": {},
   "source": [
    "<h3>Start celery</h3>\n",
    "<p>celery -A tasks worker --loglevel=info</p>"
   ]
  },
  {
   "cell_type": "markdown",
   "metadata": {},
   "source": [
    "<p>I tried simple usecase of celery.</p>\n",
    "<img src=\"screenshots/celery_try.png\" align=\"left\" width=\"600\">"
   ]
  },
  {
   "cell_type": "markdown",
   "metadata": {},
   "source": [
    "<p>I can run python terminal and run functions from tasks file directly</p>\n",
    "<p style=\"color:green\">>>> from tasks import *</p>\n",
    "<p style=\"color:green\">>>> reverse('Lepchenkov')</p>\n"
   ]
  },
  {
   "cell_type": "markdown",
   "metadata": {},
   "source": [
    "<p>To run a process through celery we will call reverse.delay('string'). It adds delay method to function</p>\n",
    "<p style=\"color:green\">>>> from tasks import *</p>\n",
    "<p style=\"color:green\">>>> reverse.delay('Lepchenkov')</p>\n",
    "<p style=\"color:blue\">AsyncResult: 0976f94b-06f8-4cbb-904f-d9d05361e600</p>\n",
    "\n",
    "<img src=\"screenshots/celery_response.png\" align=\"left\" width=\"600\">"
   ]
  },
  {
   "cell_type": "markdown",
   "metadata": {},
   "source": [
    "<p>Running reverse.delay have sent message to message queue, Celery have benn listening to message queue, picked it up, executed it and went back to listening again. </p>"
   ]
  },
  {
   "cell_type": "markdown",
   "metadata": {},
   "source": [
    "<h3>Connect celery to db</h3>\n",
    "<p>When crearing app = Celery(...) apart from '.py file' and <i>broker</i>, we can also add third argument <i>backend</i></p>"
   ]
  },
  {
   "cell_type": "code",
   "execution_count": null,
   "metadata": {},
   "outputs": [],
   "source": []
  }
 ],
 "metadata": {
  "kernelspec": {
   "display_name": "Python 3",
   "language": "python",
   "name": "python3"
  },
  "language_info": {
   "codemirror_mode": {
    "name": "ipython",
    "version": 3
   },
   "file_extension": ".py",
   "mimetype": "text/x-python",
   "name": "python",
   "nbconvert_exporter": "python",
   "pygments_lexer": "ipython3",
   "version": "3.6.7"
  }
 },
 "nbformat": 4,
 "nbformat_minor": 2
}
