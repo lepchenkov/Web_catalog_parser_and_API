{
 "cells": [
  {
   "cell_type": "markdown",
   "metadata": {},
   "source": [
    "<h1>Test db_connect.py</h1>"
   ]
  },
  {
   "cell_type": "code",
   "execution_count": 1,
   "metadata": {},
   "outputs": [
    {
     "name": "stdout",
     "output_type": "stream",
     "text": [
      "['/home/kiryl/Documents/Projects/Website_Parser', '/home/kiryl/Documents/Environments/scraper/lib/python36.zip', '/home/kiryl/Documents/Environments/scraper/lib/python3.6', '/home/kiryl/Documents/Environments/scraper/lib/python3.6/lib-dynload', '/usr/lib/python3.6', '', '/home/kiryl/Documents/Environments/scraper/lib/python3.6/site-packages', '/home/kiryl/Documents/Environments/scraper/lib/python3.6/site-packages/IPython/extensions', '/home/kiryl/.ipython']\n"
     ]
    }
   ],
   "source": [
    "import sys\n",
    "import os\n",
    "dir_path = os.getcwd()\n",
    "sys.path.insert(0,dir_path)\n",
    "print(sys.path)"
   ]
  },
  {
   "cell_type": "code",
   "execution_count": 2,
   "metadata": {},
   "outputs": [],
   "source": [
    "from parse import simple_get, get_soup, get_product_parameters\n",
    "\n",
    "from db_connect import *"
   ]
  },
  {
   "cell_type": "markdown",
   "metadata": {},
   "source": [
    "<h3>Test simple db connection and retrieve operation</h3>"
   ]
  },
  {
   "cell_type": "code",
   "execution_count": 3,
   "metadata": {},
   "outputs": [
    {
     "name": "stdout",
     "output_type": "stream",
     "text": [
      "\n",
      " id: 8779\n",
      "\n",
      " url: https://www.oma.by/ugolok-d-plitki-pvkh-11-12-mm-naruzhnyy-2-5m-belyy-2-260638-p\n",
      "\n",
      " category: Отделка\n",
      "\n",
      " subcategory lvl 1: Плитка\n",
      "\n",
      " subcategory lvl 2: Аксессуары для плитки\n"
     ]
    },
    {
     "name": "stderr",
     "output_type": "stream",
     "text": [
      "/home/kiryl/Documents/Environments/scraper/lib/python3.6/site-packages/psycopg2/__init__.py:144: UserWarning: The psycopg2 wheel package will be renamed from release 2.8; in order to keep installing from binary please use \"pip install psycopg2-binary\" instead. For details see: <http://initd.org/psycopg/docs/install.html#binary-install-from-pypi>.\n",
      "  \"\"\")\n"
     ]
    }
   ],
   "source": [
    "#instantiate database connection using Posgres_db class from db_connect.py\n",
    "db_connection = Postgres_db()\n",
    "result = db_connection.query(\"SELECT * FROM products_all WHERE id=8779\")\n",
    "for entry in result:  \n",
    "    print(f'\\n id: {entry.id}')\n",
    "    print(f'\\n url: {entry.url}')\n",
    "    print(f'\\n category: {entry.category}')\n",
    "    print(f'\\n subcategory lvl 1: {entry.subcategory_lvl1}')\n",
    "    print(f'\\n subcategory lvl 2: {entry.subcategory_lvl2}')\n",
    "    \n",
    "\n",
    "products_all = db_connection.reflect_table('products_all')"
   ]
  },
  {
   "cell_type": "markdown",
   "metadata": {},
   "source": [
    "<h3>Test table reflection</h3>"
   ]
  },
  {
   "cell_type": "code",
   "execution_count": 8,
   "metadata": {},
   "outputs": [
    {
     "name": "stdout",
     "output_type": "stream",
     "text": [
      "\n",
      "\n",
      "{'product_name': 'Уголок д/плитки ПВХ 9-10 мм внутренний 2,5м св-розовый, Минск ', 'product_price': 0, 'product_description': '\\n                                    Внутренний угол для керамической плитки. Материал изготовления: ПВХ. Цвет: светло-розовый. Станет отличным дополнением к вашим интерьерным решениям.', 'product_characteristics': '', 'similar_products': '', 'product_image_link': 'https://www.oma.by/upload/Sh/imageCache/d0e/bb2/2.260629-medium.jpg', 'product_is_trend': False}\n",
      "8780\n",
      "\n",
      "\n",
      "{'product_name': 'Уголок д/плитки ПВХ 9-10 мм наружный 2,5м слоновая кость, Минск ', 'product_price': 0, 'product_description': '\\n                                    Наружный угол для керамической плитки. Материал изготовления: ПВХ. Цвет: слоновая кость. Станет отличным дополнением к вашим интерьерным решениям.', 'product_characteristics': '', 'similar_products': '', 'product_image_link': 'https://www.oma.by/upload/Sh/imageCache/29b/d72/2.260632-medium.jpg', 'product_is_trend': False}\n",
      "8781\n",
      "\n",
      "\n",
      "{'product_name': 'Угол (бордюр) д/ванн и столешниц на плитку ПВХ 1,85м  ВС25, Минск ', 'product_price': 0, 'product_description': '\\n                                    Угол для керамической плитки. Материал изготовления: ПВХ. Цвет: белый. Станет отличным дополнением к вашим интерьерным решениям.', 'product_characteristics': '', 'similar_products': '', 'product_image_link': 'https://www.oma.by/upload/Sh/imageCache/a5a/e14/2.260634-medium.jpg', 'product_is_trend': False}\n",
      "8782\n"
     ]
    }
   ],
   "source": [
    "db_connection = Postgres_db()\n",
    "initial_select_string = 'SELECT * FROM products_all WHERE is_parsed IS NULL LIMIT 3'\n",
    "entries_to_parse = db_connection.query(initial_select_string)\n",
    "products_all = db_connection.reflect_table('products_all')\n",
    "\n",
    "for entry in entries_to_parse: \n",
    "    response = simple_get(entry.url)\n",
    "    soup = get_soup(response)\n",
    "    p_dict = get_product_parameters(soup)\n",
    "    print(f'\\n\\n{p_dict}')\n",
    "    print(entry.id)"
   ]
  }
 ],
 "metadata": {
  "kernelspec": {
   "display_name": "Python 3",
   "language": "python",
   "name": "python3"
  },
  "language_info": {
   "codemirror_mode": {
    "name": "ipython",
    "version": 3
   },
   "file_extension": ".py",
   "mimetype": "text/x-python",
   "name": "python",
   "nbconvert_exporter": "python",
   "pygments_lexer": "ipython3",
   "version": "3.6.7"
  }
 },
 "nbformat": 4,
 "nbformat_minor": 2
}
