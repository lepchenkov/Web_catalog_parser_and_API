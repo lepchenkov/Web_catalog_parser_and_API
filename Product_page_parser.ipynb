{
 "cells": [
  {
   "cell_type": "markdown",
   "metadata": {},
   "source": [
    "<h1>Product page parser</h1>"
   ]
  },
  {
   "cell_type": "markdown",
   "metadata": {},
   "source": [
    "<p>In this notebook we are going to parse a single product page.</p>\n",
    "<p>According to the task we should get the following: </p>\n",
    "   <ol>\n",
    "  <li>categories</li>\n",
    "  <li>subcategories</li> \n",
    "  <li>name</li>\n",
    "  <li>price</li>\n",
    "  <li>description</li>\n",
    "  <li>charachteristics</li>\n",
    "  <li>similar products</li>\n",
    "  <li>product image link</li>\n",
    "  <li>if product is a hit or not</li>\n",
    "</ol> \n",
    "\n",
    "<h3><i>Important note</i></h3>\n",
    "<p>Categories and subcategories (both level 1 and level 2) we plan to extract from parsing table obtained from the catalog main page. The parsing table currently contains 1222 rows. Each row has a link to products page with multiple product cards.</p>\n"
   ]
  },
  {
   "cell_type": "code",
   "execution_count": 5,
   "metadata": {},
   "outputs": [],
   "source": [
    "import requests\n",
    "import urllib.request\n",
    "import time\n",
    "from bs4 import BeautifulSoup as BSoup\n",
    "import pandas as pd\n",
    "import re"
   ]
  },
  {
   "cell_type": "markdown",
   "metadata": {},
   "source": [
    "<p>We will develop our parser on a bosch drill webpage which seems to be the most complete and contains all the features, including hit tag.</p>"
   ]
  },
  {
   "cell_type": "code",
   "execution_count": 4,
   "metadata": {},
   "outputs": [],
   "source": [
    "url = 'https://www.oma.by/perforator-bosch-pbh-2100-re-2-zubila-2-bura-1-216760-p'\n",
    "oma_main_html = requests.get(url)\n",
    "product_page_soup = BSoup(oma_main_html.text, 'html.parser')"
   ]
  },
  {
   "cell_type": "markdown",
   "metadata": {},
   "source": []
  },
  {
   "cell_type": "code",
   "execution_count": null,
   "metadata": {},
   "outputs": [],
   "source": []
  }
 ],
 "metadata": {
  "kernelspec": {
   "display_name": "Python 3",
   "language": "python",
   "name": "python3"
  },
  "language_info": {
   "codemirror_mode": {
    "name": "ipython",
    "version": 3
   },
   "file_extension": ".py",
   "mimetype": "text/x-python",
   "name": "python",
   "nbconvert_exporter": "python",
   "pygments_lexer": "ipython3",
   "version": "3.6.7"
  }
 },
 "nbformat": 4,
 "nbformat_minor": 2
}
