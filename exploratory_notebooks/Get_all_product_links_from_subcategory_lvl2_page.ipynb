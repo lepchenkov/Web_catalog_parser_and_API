{
 "cells": [
  {
   "cell_type": "markdown",
   "metadata": {},
   "source": [
    "<h1>Getting product links from subcategory_lvl2_link</h1>"
   ]
  },
  {
   "cell_type": "code",
   "execution_count": 3,
   "metadata": {},
   "outputs": [],
   "source": [
    "import requests\n",
    "import urllib.request\n",
    "import time\n",
    "from bs4 import BeautifulSoup as BSoup\n",
    "import pandas as pd\n",
    "import re"
   ]
  },
  {
   "cell_type": "markdown",
   "metadata": {},
   "source": [
    "<h3>Get links from single product page</h3>\n",
    "<p>First of all will get all product cards from plain html. From this particular page we should get 24 cards.</p>\n",
    "<img src=\"screenshots/4x6_catalog_page.png\" align=\"left\" width=\"300\">"
   ]
  },
  {
   "cell_type": "markdown",
   "metadata": {},
   "source": [
    "<p>Try extracting link of a single card.</p>"
   ]
  },
  {
   "cell_type": "code",
   "execution_count": 4,
   "metadata": {},
   "outputs": [
    {
     "name": "stdout",
     "output_type": "stream",
     "text": [
      "https://www.oma.by/drel-shurupovert-akkumulyatornaya-werker-ewcdl814-1-244685-p\n"
     ]
    }
   ],
   "source": [
    "#typical products page\n",
    "url = 'https://www.oma.by/dreli-shurupoverty-perforatory-meshalki-13236-c'\n",
    "\n",
    "products_page = requests.get(url)\n",
    "products_page_soup = BSoup(products_page.text, 'html.parser')\n",
    "\n",
    "#the extraction of link of the product card is made two-staged\n",
    "product_cards = products_page_soup.select('div.catalog-grid div.product-item_img-box')\n",
    "product_link_raw = product_cards[0].select('a.no-border-product')\n",
    "product_link = 'https://www.oma.by' + product_link_raw[0].attrs['href']\n",
    "print(product_link)\n"
   ]
  },
  {
   "cell_type": "markdown",
   "metadata": {},
   "source": [
    "<p>Make a function for links extraction from a page and test it.</p>"
   ]
  },
  {
   "cell_type": "code",
   "execution_count": 5,
   "metadata": {},
   "outputs": [
    {
     "name": "stdout",
     "output_type": "stream",
     "text": [
      "0 https://www.oma.by/drel-shurupovert-akkumulyatornaya-werker-ewcdl814-1-244685-p\n",
      "1 https://www.oma.by/shurupovert-otvertka-akkumulyatornaya-werker-ewcd001-1-244684-p\n",
      "2 https://www.oma.by/drel-shurupovert-bosch-easydrill-1200-06039a210b-1-247717-p\n",
      "3 https://www.oma.by/perforator-makita-hr-2470-1-149453-p\n",
      "4 https://www.oma.by/perforator-bytovoy-werker-ewrh-606-1-229957-p\n",
      "5 https://www.oma.by/drel-shurupovert-akkumulyatornaya-bosch-easydrill-12-2-060397290x-1-247573-p\n",
      "6 https://www.oma.by/drel-werker-ewid-652-1-229966-p\n",
      "7 https://www.oma.by/drel-shurupovert-werker-ewed-651-1-229975-p\n",
      "8 https://www.oma.by/perforator-bosch-pbh-2100-re-2-zubila-2-bura-1-216760-p\n",
      "9 https://www.oma.by/perforator-bosch-gbh-2-26-dfr--1-127233-p\n",
      "10 https://www.oma.by/setevaya-drel-shurupovert-werker-dse-280-1-260565-p\n",
      "11 https://www.oma.by/akkumulyatornaya-drel-shurupovert-werker-cd-1411-li-1-261826-p\n",
      "12 https://www.oma.by/perforator-bytovoy-bosch-pbh-2000-re-06033a9322-1-257514-p\n",
      "13 https://www.oma.by/drel-bosch-gsb-13-re-0601217102-1-151169-p\n",
      "14 https://www.oma.by/perforator-bosch-gbh-2-24-dre-0611272100-1-248353-p\n",
      "15 https://www.oma.by/drel-bosch-easyimpact-550-0603130020-1-247577-p\n",
      "16 https://www.oma.by/drel-shurupovert-bosch-gsr-180-li-06019f8100-1-249012-p\n",
      "17 https://www.oma.by/shurupovert-bosch-ixo-v-full-0-603-9a8-022-1-229715-p\n",
      "18 https://www.oma.by/shurupovert-otvertka-akkumulyatornyy-bosch-go-kit-6019h2021-1-257151-p\n",
      "19 https://www.oma.by/perforator-bosch-pbh-2100-re-1-190165-p\n",
      "20 https://www.oma.by/shurupovert-impulsnyy-akkumulyatornyy-bosch-gdr-120-li-1-250452-p\n",
      "21 https://www.oma.by/drel-werker-ewid-651-1-229967-p\n",
      "22 https://www.oma.by/drel-bosch-easyimpact-500-0603130003-1-248877-p\n",
      "23 https://www.oma.by/drel-shurupovert-bosch-gsr-10-8-2-li-0601868107-1-208883-p\n"
     ]
    }
   ],
   "source": [
    "def extract_product_links(soup):\n",
    "    product_cards = soup.select('div.catalog-grid \\\n",
    "                                 div.product-item_img-box')\n",
    "    link_array = []\n",
    "    for card in product_cards:\n",
    "        link_raw = card.select('a.no-border-product')\n",
    "        link = 'https://www.oma.by' + link_raw[0].attrs['href']\n",
    "        link_array.append(link)\n",
    "        \n",
    "    return link_array\n",
    "    \n",
    "\n",
    "link_array_test = extract_product_links(products_page_soup)\n",
    "for counter, link in enumerate(link_array_test):\n",
    "    print(counter, link)"
   ]
  },
  {
   "cell_type": "markdown",
   "metadata": {},
   "source": [
    "<p>The function works fine and outputs 24 product links from the first page as expected.</p>\n",
    "<h3 style=\"color:red\"><i>Problem</i></h3>\n",
    "<p>There is a problem by the way. Normally products take more than one page and expanding the page happens with AJAX call. The idea is to expand the page until it expands and only then extract all links. Will try to use selenium for that.</p>\n",
    "<img src=\"screenshots/expand_buttons.png\" align=\"left\" width=\"600\">"
   ]
  },
  {
   "cell_type": "code",
   "execution_count": 6,
   "metadata": {},
   "outputs": [],
   "source": [
    "#driver = webdriver.Firefox()\n",
    "#driver.get(url)\n",
    "#html = driver.execute_script(\"BX.ajax.insertToNode('/dreli-shurupoverty-perforatory-meshalki-13236-c?PAGEN_1=2&amp;bxajaxid=eefedf70222bb04a3200139a477e17f3', 'comp_eefedf70222bb04a3200139a477e17f3'); return false;\")\n",
    "#sel_soup = BSoup(html,'html.parser')\n"
   ]
  },
  {
   "cell_type": "code",
   "execution_count": 7,
   "metadata": {},
   "outputs": [],
   "source": [
    "# class Client(QWebPage):\n",
    "    \n",
    "#     def __init__(self, url):\n",
    "#         #we define an application\n",
    "#         self.app = QApplication(sys.argv)\n",
    "#         #start a QWebPage\n",
    "#         QWebPage.__init__(self)\n",
    "#         self.loadFinished.connect(self.on_page_load)\n",
    "#         self.mainFrame().load(QUrl(url))\n",
    "#         self.app.exec_()\n",
    "        \n",
    "#     def on_page_load(self):\n",
    "#         self.app.quit()\n",
    "\n",
    "# client_response = Client(url)   \n",
    "# source = client_response.mainFrame().toHtml()\n",
    "# products_page_soup = BSoup(source, 'lxml')\n",
    "# link_array_test_qt = extract_product_links(products_page_soup)\n",
    "# for counter, link in enumerate(link_array_test_qt):\n",
    "#     print(counter, link)"
   ]
  },
  {
   "cell_type": "markdown",
   "metadata": {},
   "source": [
    "<h3 style=\"color:green\"><i>Solution?</i></h3>\n",
    "<p>Get the number of subpages and iterate over them.</p>\n",
    "<img src=\"screenshots/page_icons_block.png\" align=\"left\" width=\"600\">"
   ]
  },
  {
   "cell_type": "code",
   "execution_count": 8,
   "metadata": {},
   "outputs": [
    {
     "name": "stdout",
     "output_type": "stream",
     "text": [
      "/dreli-shurupoverty-perforatory-meshalki-13236-c?PAGEN_1=1\n",
      "/dreli-shurupoverty-perforatory-meshalki-13236-c?PAGEN_1=2\n",
      "/dreli-shurupoverty-perforatory-meshalki-13236-c?PAGEN_1=3\n",
      "/dreli-shurupoverty-perforatory-meshalki-13236-c?PAGEN_1=4\n",
      "/dreli-shurupoverty-perforatory-meshalki-13236-c?PAGEN_1=5\n",
      "/dreli-shurupoverty-perforatory-meshalki-13236-c?PAGEN_1=6\n",
      "/dreli-shurupoverty-perforatory-meshalki-13236-c?PAGEN_1=7\n",
      "/dreli-shurupoverty-perforatory-meshalki-13236-c?PAGEN_1=8\n",
      "/dreli-shurupoverty-perforatory-meshalki-13236-c?PAGEN_1=9\n"
     ]
    }
   ],
   "source": [
    "button_combo_object = products_page_soup.select('div.btn-combo \\\n",
    "                                                 div.hide a')\n",
    "\n",
    "for a_tag in button_combo_object:\n",
    "    print(a_tag.attrs[\"href\"])\n"
   ]
  },
  {
   "cell_type": "code",
   "execution_count": 9,
   "metadata": {},
   "outputs": [
    {
     "name": "stdout",
     "output_type": "stream",
     "text": [
      "https://www.oma.by/dreli-shurupoverty-perforatory-meshalki-13236-c?PAGEN_1=1\n",
      "https://www.oma.by/dreli-shurupoverty-perforatory-meshalki-13236-c?PAGEN_1=2\n",
      "https://www.oma.by/dreli-shurupoverty-perforatory-meshalki-13236-c?PAGEN_1=3\n",
      "https://www.oma.by/dreli-shurupoverty-perforatory-meshalki-13236-c?PAGEN_1=4\n",
      "https://www.oma.by/dreli-shurupoverty-perforatory-meshalki-13236-c?PAGEN_1=5\n",
      "https://www.oma.by/dreli-shurupoverty-perforatory-meshalki-13236-c?PAGEN_1=6\n",
      "https://www.oma.by/dreli-shurupoverty-perforatory-meshalki-13236-c?PAGEN_1=7\n",
      "https://www.oma.by/dreli-shurupoverty-perforatory-meshalki-13236-c?PAGEN_1=8\n",
      "https://www.oma.by/dreli-shurupoverty-perforatory-meshalki-13236-c?PAGEN_1=9\n"
     ]
    }
   ],
   "source": [
    "def page_links(soup):\n",
    "    page_link_array = []\n",
    "    button_combo_object = soup.select('div.btn-combo \\\n",
    "                                       div.hide a')\n",
    "    for a_tag in button_combo_object:\n",
    "        page_link_array.append('https://www.oma.by' + a_tag.attrs[\"href\"])\n",
    "    \n",
    "    return page_link_array\n",
    "\n",
    "test = page_links(products_page_soup)\n",
    "for link in test:\n",
    "    print(link)"
   ]
  },
  {
   "cell_type": "code",
   "execution_count": 21,
   "metadata": {},
   "outputs": [],
   "source": [
    "def product_url_list(subcat_lvl_2_url):\n",
    "    product_urls = []\n",
    "    subcat_lvl2_page = requests.get(subcat_lvl_2_url)\n",
    "    subcat_lvl_2_soup = BSoup(subcat_lvl2_page.text, 'html.parser')\n",
    "    \n",
    "    for page_link in page_links(subcat_lvl_2_soup):\n",
    "        page = requests.get(page_link)\n",
    "        page_soup = BSoup(page.text, 'html.parser')\n",
    "        product_urls.extend(extract_product_links(page_soup))\n",
    "    \n",
    "    return product_urls\n",
    "    "
   ]
  },
  {
   "cell_type": "code",
   "execution_count": 22,
   "metadata": {},
   "outputs": [
    {
     "name": "stdout",
     "output_type": "stream",
     "text": [
      "CPU times: user 5.43 s, sys: 310 ms, total: 5.74 s\n",
      "Wall time: 8.52 s\n"
     ]
    }
   ],
   "source": [
    "%%time\n",
    "ankera_urls = product_url_list('https://www.oma.by/bolty-ankernye-13253-c')"
   ]
  },
  {
   "cell_type": "code",
   "execution_count": 23,
   "metadata": {},
   "outputs": [
    {
     "name": "stdout",
     "output_type": "stream",
     "text": [
      "0 https://www.oma.by/ankernyy-bolt-s-gaykoy-10kh130-mm-1-211171-p\n",
      "1 https://www.oma.by/ankernyy-bolt-s-gaykoy-8kh85-mm-1-115013-p\n",
      "2 https://www.oma.by/ankernyy-bolt-s-gaykoy-10-0kh-95-97-mm-10-sht-1-158119-p\n",
      "3 https://www.oma.by/ankernyy-bolt-s-kryuchkom-8kh40-mm-1-117543-p\n",
      "4 https://www.oma.by/ankernyy-bolt-s-gaykoy-12kh150-mm-1-211175-p\n",
      "5 https://www.oma.by/ankernyy-bolt-s-gaykoy-10kh95-97-mm-1-115017-p\n",
      "6 https://www.oma.by/ankernyy-bolt-s-gaykoy-16kh147-150-mm-1-115022-p\n",
      "7 https://www.oma.by/ankernyy-bolt-s-gaykoy-12kh129-130-mm-1-115020-p\n",
      "8 https://www.oma.by/ankernyy-bolt-s-gaykoy-8kh65-mm-1-115012-p\n",
      "9 https://www.oma.by/ankernyy-bolt-s-gaykoy-16kh110-111-mm-1-115021-p\n",
      "10 https://www.oma.by/ankernyy-bolt-s-gaykoy-12kh99-100-mm-1-115019-p\n",
      "11 https://www.oma.by/ankernyy-bolt-s-gaykoy-10kh75-77-mm-1-115016-p\n",
      "12 https://www.oma.by/ankernyy-bolt-s-shestigr-gol-8kh80-10-sht--1-158107-p\n",
      "13 https://www.oma.by/ankernyy-bolt-s-koltsom-8kh40-10-sht--1-158126-p\n",
      "14 https://www.oma.by/ankernyy-bolt-s-gaykoy-16kh147-150-mm-10-shtuk-1-158124-p\n",
      "15 https://www.oma.by/ankernyy-bolt-s-gaykoy-12kh129-130-mm-10-shtuk-1-158122-p\n",
      "16 https://www.oma.by/ankernyy-bolt-s-shestigr-gol-10kh60-1-218568-p\n",
      "17 https://www.oma.by/ankernyy-bolt-s-gaykoy-12-0kh200-1-211178-p\n",
      "18 https://www.oma.by/ankernyy-bolt-s-kryuchkom-10kh50-1-117544-p\n",
      "19 https://www.oma.by/ankernyy-bolt-s-shestigr-gol-8kh45-10-sht--1-158105-p\n",
      "20 https://www.oma.by/ankernyy-bolt-s-gaykoy-10-0kh50-1-115015-p\n",
      "21 https://www.oma.by/ankernyy-bolt-dvukhraspornyy-12kh100-1-211165-p\n",
      "22 https://www.oma.by/ankernyy-bolt-s-shestigr-gol-8kh60-1-127843-p\n",
      "23 https://www.oma.by/ankernyy-bolt-s-shestigr-gol-10kh50-1-218567-p\n",
      "24 https://www.oma.by/ankernyy-bolt-dvukhraspornyy-10kh150-1-211164-p\n",
      "25 https://www.oma.by/ankernyy-bolt-s-kryuchkom-8kh40-10-sht--1-158128-p\n",
      "26 https://www.oma.by/ankernyy-bolt-s-shestigr-gol-10kh80-1-127846-p\n",
      "27 https://www.oma.by/ankernyy-bolt-8-0kh40-10-sht--1-158113-p\n",
      "28 https://www.oma.by/ankernyy-bolt-s-gaykoy-12-0kh60-1-115018-p\n",
      "29 https://www.oma.by/ankernyy-bolt-s-shestigr-gol-8kh80-1-127844-p\n",
      "30 https://www.oma.by/ankernyy-bolt-s-shestigr-gol-12kh100-10-sht--1-158112-p\n",
      "31 https://www.oma.by/ankernyy-bolt-s-koltsom-10kh50-2-sht--1-190909-p\n",
      "32 https://www.oma.by/ankernyy-bolt-dvukhraspornyy-16kh200-1-211169-p\n",
      "33 https://www.oma.by/ankernyy-bolt-s-gaykoy-10-0kh150-10-sht--1-211282-p\n",
      "34 https://www.oma.by/ankernyy-bolt-s-gaykoy-10kh130-mm-10-sht-1-211281-p\n",
      "35 https://www.oma.by/ankernyy-bolt-s-gaykoy-16-0kh250-1-211184-p\n",
      "36 https://www.oma.by/ankernyy-bolt-s-gaykoy-12-0kh99-100-2-sht--1-190904-p\n",
      "37 https://www.oma.by/ankernyy-bolt-s-koltsom-10kh50-1-117545-p\n",
      "38 https://www.oma.by/ankernyy-bolt-s-gaykoy-16-0kh110-111-2-sht--1-158123-p\n",
      "39 https://www.oma.by/ankernyy-bolt-s-koltsom-8kh40-1-117546-p\n",
      "40 https://www.oma.by/ankernyy-bolt-s-koltsom-10kh50-10-sht--1-158127-p\n",
      "41 https://www.oma.by/ankernyy-bolt-8-0kh65-10-sht--1-158114-p\n",
      "42 https://www.oma.by/ankernyy-bolt-s-gaykoy-10-0kh75-77-10-sht--1-158118-p\n",
      "43 https://www.oma.by/ankernyy-bolt-s-gaykoy-8-0kh25-1-218565-p\n",
      "44 https://www.oma.by/ankernyy-bolt-dvukhraspornyy-12kh200-2-sht--1-211277-p\n",
      "45 https://www.oma.by/ankernyy-bolt-s-pryamougolnym-kryuchkom-12x70-2-shtuki-1-250187-p\n",
      "46 https://www.oma.by/ankernyy-bolt-s-kryuchkom-10kh50-10-sht--1-158129-p\n",
      "47 https://www.oma.by/ankernyy-bolt-s-shestigr-gol-10kh80-10-sht--1-158109-p\n",
      "48 https://www.oma.by/ankernyy-bolt-s-gaykoy-12-0kh99-100-10-sht--1-158121-p\n",
      "49 https://www.oma.by/ankernyy-bolt-s-shestigr-gol-10kh85-2-sht--1-190892-p\n",
      "50 https://www.oma.by/ankernyy-bolt-s-gaykoy-12-0kh60-10-sht--1-158120-p\n",
      "51 https://www.oma.by/ankernyy-bolt-s-shestigr-gol-8kh45-2-sht--1-190887-p\n",
      "52 https://www.oma.by/ankernyy-bolt-s-pryamougolnym-kryuchkom-10x60-2-shtuki-1-250186-p\n",
      "53 https://www.oma.by/ankernyy-bolt-s-shestigr-gol-10kh60-10-sht--1-218686-p\n",
      "54 https://www.oma.by/ankernyy-bolt-s-gaykoy-20-0kh150-2-sht--1-158125-p\n",
      "55 https://www.oma.by/ankernyy-bolt-s-gaykoy-10-0kh150-1-211172-p\n",
      "56 https://www.oma.by/ankernyy-bolt-s-gaykoy-10-0kh180-1-211173-p\n",
      "57 https://www.oma.by/ankernyy-bolt-s-gaykoy-12-0kh129-130-2-sht--1-190905-p\n",
      "58 https://www.oma.by/ankernyy-bolt-s-shestigr-gol-8kh60-10sht-1-158106-p\n",
      "59 https://www.oma.by/ankernyy-bolt-dvukhraspornyy-12kh250-1-211168-p\n",
      "60 https://www.oma.by/ankernyy-bolt-s-shestigr-gol-8kh60-2-sht--1-190888-p\n",
      "61 https://www.oma.by/ankernyy-bolt-s-gaykoy-16-0kh147-150-2-sht--1-190907-p\n",
      "62 https://www.oma.by/ankernyy-bolt-s-pryamougolnym-kryuchkom-14x70-2-shtuki-1-250188-p\n",
      "63 https://www.oma.by/ankernyy-bolt-s-gaykoy-12-0kh150-10-sht--1-211285-p\n",
      "64 https://www.oma.by/ankernyy-bolt-s-gaykoy-12-0kh250-1-211180-p\n",
      "65 https://www.oma.by/ankernyy-bolt-s-gaykoy-10-0kh50-10-sht--1-158117-p\n",
      "66 https://www.oma.by/ankernyy-bolt-s-shestigr-gol-8kh90-10-sht--1-218684-p\n",
      "67 https://www.oma.by/ankernyy-bolt-s-pryamougolnym-kryuchkom-8x40-2-shtuki-1-250190-p\n",
      "68 https://www.oma.by/ankernyy-bolt-s-gaykoy-8-0kh40-1-115011-p\n",
      "69 https://www.oma.by/ankernyy-bolt-dvukhraspornyy-12kh250-2-sht--1-211278-p\n",
      "70 https://www.oma.by/ankernyy-bolt-8-0kh85-10-sht--1-158115-p\n",
      "71 https://www.oma.by/ankernyy-bolt-s-pryamougolnym-kryuchkom-16x80-2-shtuki-1-250189-p\n",
      "72 https://www.oma.by/ankernyy-bolt-s-shestigr-gol-10kh55-2-sht--1-190890-p\n",
      "73 https://www.oma.by/ankernyy-bolt-s-gaykoy-10-0kh50-2-sht--1-190899-p\n",
      "74 https://www.oma.by/ankernyy-bolt-s-shestigr-gol-10kh80-2-sht--1-190891-p\n",
      "75 https://www.oma.by/ankernyy-bolt-s-kryuchkom-8kh40-2-sht--1-190910-p\n",
      "76 https://www.oma.by/ankernyy-bolt-dvukhraspornyy-12kh200-1-211167-p\n",
      "77 https://www.oma.by/ankernyy-bolt-s-shestigr-gol-10kh125-1-218571-p\n",
      "78 https://www.oma.by/ankernyy-bolt-s-gaykoy-12-0kh180-1-207182-p\n",
      "79 https://www.oma.by/ankernyy-bolt-s-gaykoy-10-0kh40-10-sht--1-158116-p\n",
      "80 https://www.oma.by/ankernyy-bolt-s-koltsom-8kh40-2-sht--1-190908-p\n",
      "81 https://www.oma.by/ankernyy-bolt-s-gaykoy-20-0kh150-1-115024-p\n",
      "82 https://www.oma.by/ankernyy-bolt-s-gaykoy-10-0kh40-1-115014-p\n",
      "83 https://www.oma.by/ankernyy-bolt-s-shestigr-gol-12kh80-10-sht--1-218690-p\n",
      "84 https://www.oma.by/ankernyy-bolt-s-gaykoy-10-0kh75-77-2-sht--1-190901-p\n",
      "85 https://www.oma.by/ankernyy-bolt-s-gaykoy-16-0kh-65-1-211181-p\n",
      "86 https://www.oma.by/ankernyy-bolt-s-shestigr-gol-12kh65-1-127848-p\n",
      "87 https://www.oma.by/ankernyy-bolt-s-gaykoy-12-0kh75-1-211174-p\n",
      "88 https://www.oma.by/ankernyy-bolt-8-0kh85-2-sht--1-190897-p\n",
      "89 https://www.oma.by/ankernyy-bolt-s-gaykoy-16-0kh110-111-10-sht--1-190906-p\n",
      "90 https://www.oma.by/ankernyy-bolt-s-shestigr-gol-10kh75-10-sht--1-218688-p\n",
      "91 https://www.oma.by/ankernyy-bolt-s-gaykoy-12-0kh220-1-211179-p\n",
      "92 https://www.oma.by/ankernyy-bolt-s-shestigr-gol-10kh50-10-sht--1-218685-p\n",
      "93 https://www.oma.by/ankernyy-bolt-s-shestigr-gol-12kh100-2-sht--1-190894-p\n",
      "94 https://www.oma.by/ankernyy-bolt-s-gaykoy-8-0kh25-10-sht--1-218683-p\n",
      "95 https://www.oma.by/ankernyy-bolt-s-shestigr-gol-12kh65-2-sht--1-190893-p\n",
      "96 https://www.oma.by/ankernyy-bolt-8-0kh65-2-sht--1-190896-p\n",
      "97 https://www.oma.by/ankernyy-bolt-s-gaykoy-10-0kh95-97-2-sht--1-190902-p\n",
      "98 https://www.oma.by/ankernyy-bolt-s-shestigr-gol-10kh85-10-sht--1-158110-p\n",
      "99 https://www.oma.by/ankernyy-bolt-s-gaykoy-10-0kh40-2-sht--1-190898-p\n",
      "100 https://www.oma.by/ankernyy-bolt-s-shestigr-gol-8kh45-1-127842-p\n",
      "101 https://www.oma.by/ankernyy-bolt-s-shestigr-gol-12kh80-1-218572-p\n",
      "102 https://www.oma.by/ankernyy-bolt-s-shestigr-gol-8kh80-2-sht--1-190889-p\n",
      "103 https://www.oma.by/ankernyy-bolt-s-shestigr-gol-10kh55-10-sht--1-158108-p\n",
      "104 https://www.oma.by/ankernyy-bolt-s-shestigr-gol-10kh85-1-127847-p\n",
      "105 https://www.oma.by/ankernyy-bolt-8-0kh40-2-sht--1-190895-p\n",
      "106 https://www.oma.by/ankernyy-bolt-s-kryuchkom-10kh50-2-sht--1-190911-p\n",
      "107 https://www.oma.by/ankernyy-bolt-s-shestigr-gol-10kh125-2-sht--1-218689-p\n",
      "108 https://www.oma.by/ankernyy-bolt-s-shestigr-gol-10kh65-10-sht--1-218687-p\n",
      "109 https://www.oma.by/ankernyy-bolt-s-shestigr-gol-12kh100-1-127849-p\n",
      "110 https://www.oma.by/ankernyy-bolt-s-shestigr-gol-8kh90-1-218566-p\n",
      "111 https://www.oma.by/ankernyy-bolt-s-shestigr-gol-10kh55-1-127845-p\n",
      "112 https://www.oma.by/ankernyy-bolt-s-gaykoy-16-0kh220-1-208210-p\n",
      "113 https://www.oma.by/ankernyy-bolt-s-shestigr-gol-10kh65-1-218569-p\n",
      "114 https://www.oma.by/ankernyy-bolt-dvukhraspornyy-16kh250-1-211170-p\n",
      "115 https://www.oma.by/ankernyy-bolt-s-pryamougolnym-kryuchkom-10kh100-10-shtuk-1-250277-p\n",
      "116 https://www.oma.by/ankernyy-bolt-s-pryamougolnym-kryuchkom-10kh100-2-shtuki-1-250276-p\n",
      "117 https://www.oma.by/ankernyy-bolt-s-shestigr-gol-20kh100-2-sht--1-218691-p\n",
      "118 https://www.oma.by/bolt-ankernyy-s-gaykoy-20-0kh107-110-1-115023-p\n"
     ]
    }
   ],
   "source": [
    "for counter, link in enumerate(ankera_urls):\n",
    "    print(counter, link)"
   ]
  }
 ],
 "metadata": {
  "kernelspec": {
   "display_name": "Python 3",
   "language": "python",
   "name": "python3"
  },
  "language_info": {
   "codemirror_mode": {
    "name": "ipython",
    "version": 3
   },
   "file_extension": ".py",
   "mimetype": "text/x-python",
   "name": "python",
   "nbconvert_exporter": "python",
   "pygments_lexer": "ipython3",
   "version": "3.6.7"
  }
 },
 "nbformat": 4,
 "nbformat_minor": 2
}
