{
 "cells": [
  {
   "cell_type": "markdown",
   "metadata": {},
   "source": [
    "<h1>Parsing OMA website</h1>"
   ]
  },
  {
   "cell_type": "markdown",
   "metadata": {},
   "source": [
    "<p>This notebook is just a prototype for testing pieces of python code aimed to parse a specific website.</p>"
   ]
  },
  {
   "cell_type": "code",
   "execution_count": 28,
   "metadata": {},
   "outputs": [],
   "source": [
    "import requests\n",
    "import urllib.request\n",
    "import time\n",
    "from bs4 import BeautifulSoup as BSoup"
   ]
  },
  {
   "cell_type": "code",
   "execution_count": 29,
   "metadata": {},
   "outputs": [],
   "source": [
    "url = 'https://www.oma.by/catalog/'\n",
    "#opens up a connection, grabs the page and downloads it\n",
    "oma_main_html = requests.get(url)"
   ]
  },
  {
   "cell_type": "markdown",
   "metadata": {},
   "source": [
    "<p>soup is a BeautifulSoup object which represents the document as a nested data sctructure:</p>"
   ]
  },
  {
   "cell_type": "code",
   "execution_count": 30,
   "metadata": {},
   "outputs": [],
   "source": [
    "oma_catalog_soup = BSoup(oma_main_html.text, 'html.parser')\n",
    "oma_catalog_soup.title\n",
    "oma_catalog_soup.close"
   ]
  },
  {
   "cell_type": "markdown",
   "metadata": {},
   "source": [
    "<h3>Getting categories </h3>\n",
    "<p>So we get the soup object successfully. Now will try to find category headers on a catalog page (there are 7 main categories). </p>\n",
    "<img src=\"screenshots/category_schema.png\" align=\"left\" width=\"600\">"
   ]
  },
  {
   "cell_type": "markdown",
   "metadata": {},
   "source": [
    "<br>\n",
    "<p>I will try to select sections with class 'border-section' select its child h2.</p>\n",
    "<img src=\"screenshots/categories.png\" align=\"left\">"
   ]
  },
  {
   "cell_type": "code",
   "execution_count": 50,
   "metadata": {
    "scrolled": true
   },
   "outputs": [
    {
     "name": "stdout",
     "output_type": "stream",
     "text": [
      "There are 7 objects that has h2 tags inside the header tag\n",
      "\n",
      "Printing the whole list of the categories:\n",
      "<h2>Инструменты, крепёж</h2>\n",
      "<h2>Отделка</h2>\n",
      "<h2>Садовый центр / отдых</h2>\n",
      "<h2>Сантехника</h2>\n",
      "<h2>Строительство</h2>\n",
      "<h2>Товары для дома</h2>\n",
      "<h2>Электротехника</h2>\n"
     ]
    }
   ],
   "source": [
    "categories = oma_catalog_soup.select('section.bordered-section h2')\n",
    "print(f'There are {len(categories)} objects that has h2 tags inside the header tag')\n",
    "\n",
    "print('\\nPrinting the whole list of the categories:')\n",
    "for category in categories:\n",
    "    print(category)"
   ]
  },
  {
   "cell_type": "markdown",
   "metadata": {},
   "source": [
    "<h3>Getting subcategories </h3>\n",
    "<p>So we get the categories list correctly and we can use this h2 tags as anchors for looping.</p>\n",
    "<img src=\"screenshots/subcategories_schema.png\" align=\"left\" width=\"720\">"
   ]
  },
  {
   "cell_type": "code",
   "execution_count": 53,
   "metadata": {},
   "outputs": [
    {
     "name": "stdout",
     "output_type": "stream",
     "text": [
      "There are 7 main category objects \n",
      "\n",
      "Printing the whole list of the categories:\n",
      "<class 'bs4.element.Tag'>\n",
      "\n",
      "Subcategory contains 9762 symbols.\n"
     ]
    }
   ],
   "source": [
    "categories = oma_catalog_soup.findAll('section',\\\n",
    "                                      {'class':'bordered-section js-accordion-group'})\n",
    "print(f'There are {len(categories)} main category objects ')\n",
    "\n",
    "print('\\nPrinting the whole list of the categories:')\n",
    "print(type(categories[0]))\n",
    "\n",
    "print(f'\\nSubcategory contains {len(categories[0].text)} symbols.')\n"
   ]
  },
  {
   "cell_type": "markdown",
   "metadata": {},
   "source": [
    "<p>Here is what one subcategory looks like:</p>\n",
    "<img src=\"screenshots/subcategory_lvl_2.png\" align=\"left\" width=\"600\">"
   ]
  },
  {
   "cell_type": "code",
   "execution_count": null,
   "metadata": {},
   "outputs": [],
   "source": []
  }
 ],
 "metadata": {
  "kernelspec": {
   "display_name": "Python 3",
   "language": "python",
   "name": "python3"
  },
  "language_info": {
   "codemirror_mode": {
    "name": "ipython",
    "version": 3
   },
   "file_extension": ".py",
   "mimetype": "text/x-python",
   "name": "python",
   "nbconvert_exporter": "python",
   "pygments_lexer": "ipython3",
   "version": "3.6.7"
  }
 },
 "nbformat": 4,
 "nbformat_minor": 2
}
