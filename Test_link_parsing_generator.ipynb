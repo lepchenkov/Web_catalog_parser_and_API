{
 "cells": [
  {
   "cell_type": "code",
   "execution_count": 1,
   "metadata": {},
   "outputs": [],
   "source": [
    "import sys\n",
    "import os"
   ]
  },
  {
   "cell_type": "code",
   "execution_count": 2,
   "metadata": {},
   "outputs": [
    {
     "name": "stdout",
     "output_type": "stream",
     "text": [
      "['/home/kiryl/Documents/Projects/Website_Parser', '/home/kiryl/Documents/Environments/scraper/lib/python36.zip', '/home/kiryl/Documents/Environments/scraper/lib/python3.6', '/home/kiryl/Documents/Environments/scraper/lib/python3.6/lib-dynload', '/usr/lib/python3.6', '', '/home/kiryl/Documents/Environments/scraper/lib/python3.6/site-packages', '/home/kiryl/Documents/Environments/scraper/lib/python3.6/site-packages/IPython/extensions', '/home/kiryl/.ipython']\n"
     ]
    }
   ],
   "source": [
    "dir_path = os.getcwd()\n",
    "sys.path.insert(0,dir_path)\n",
    "print(sys.path)"
   ]
  },
  {
   "cell_type": "code",
   "execution_count": 3,
   "metadata": {},
   "outputs": [],
   "source": [
    "from parsing_module import *"
   ]
  },
  {
   "cell_type": "code",
   "execution_count": 4,
   "metadata": {},
   "outputs": [
    {
     "name": "stdout",
     "output_type": "stream",
     "text": [
      "{'url': 'https://www.oma.by/ankernyy-bolt-s-gaykoy-10kh130-mm-1-211171-p', 'category': 'Инструменты, крепёж', 'subcat_lvl1': 'Анкеры', 'subcat_lvl2': 'Болты анкерные'}\n",
      "{'url': 'https://www.oma.by/ankernyy-bolt-s-gaykoy-8kh85-mm-1-115013-p', 'category': 'Инструменты, крепёж', 'subcat_lvl1': 'Анкеры', 'subcat_lvl2': 'Болты анкерные'}\n",
      "{'url': 'https://www.oma.by/ankernyy-bolt-s-gaykoy-10-0kh-95-97-mm-10-sht-1-158119-p', 'category': 'Инструменты, крепёж', 'subcat_lvl1': 'Анкеры', 'subcat_lvl2': 'Болты анкерные'}\n",
      "{'url': 'https://www.oma.by/ankernyy-bolt-s-kryuchkom-8kh40-mm-1-117543-p', 'category': 'Инструменты, крепёж', 'subcat_lvl1': 'Анкеры', 'subcat_lvl2': 'Болты анкерные'}\n",
      "{'url': 'https://www.oma.by/ankernyy-bolt-s-gaykoy-12kh150-mm-1-211175-p', 'category': 'Инструменты, крепёж', 'subcat_lvl1': 'Анкеры', 'subcat_lvl2': 'Болты анкерные'}\n"
     ]
    }
   ],
   "source": [
    "product_link_generator = get_product_urls()\n",
    "\n",
    "i = 0\n",
    "for product_link in product_link_generator:\n",
    "    print(product_link)\n",
    "    i += 1\n",
    "    if i == 5:\n",
    "        break"
   ]
  }
 ],
 "metadata": {
  "kernelspec": {
   "display_name": "Python 3",
   "language": "python",
   "name": "python3"
  },
  "language_info": {
   "codemirror_mode": {
    "name": "ipython",
    "version": 3
   },
   "file_extension": ".py",
   "mimetype": "text/x-python",
   "name": "python",
   "nbconvert_exporter": "python",
   "pygments_lexer": "ipython3",
   "version": "3.6.7"
  }
 },
 "nbformat": 4,
 "nbformat_minor": 2
}
