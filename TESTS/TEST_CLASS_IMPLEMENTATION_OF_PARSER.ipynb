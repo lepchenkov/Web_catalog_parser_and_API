{
 "cells": [
  {
   "cell_type": "markdown",
   "metadata": {},
   "source": [
    "<h1>Test class implementation of parse.py</h1>"
   ]
  },
  {
   "cell_type": "code",
   "execution_count": 1,
   "metadata": {},
   "outputs": [
    {
     "name": "stdout",
     "output_type": "stream",
     "text": [
      "['/home/kiryl/Documents/Projects/Website_Parser', '/home/kiryl/Documents/Projects/Website_Parser/TESTS', '/home/kiryl/Documents/Environments/scraper/lib/python36.zip', '/home/kiryl/Documents/Environments/scraper/lib/python3.6', '/home/kiryl/Documents/Environments/scraper/lib/python3.6/lib-dynload', '/usr/lib/python3.6', '', '/home/kiryl/Documents/Environments/scraper/lib/python3.6/site-packages', '/home/kiryl/Documents/Environments/scraper/lib/python3.6/site-packages/IPython/extensions', '/home/kiryl/.ipython']\n"
     ]
    }
   ],
   "source": [
    "import sys\n",
    "import os\n",
    "dir_path = os.getcwd()\n",
    "sys.path.insert(0,dir_path)\n",
    "sys.path.insert(0,'/home/kiryl/Documents/Projects/Website_Parser')\n",
    "print(sys.path)"
   ]
  },
  {
   "cell_type": "code",
   "execution_count": 2,
   "metadata": {},
   "outputs": [],
   "source": [
    "from parse import Parser"
   ]
  },
  {
   "cell_type": "markdown",
   "metadata": {},
   "source": [
    "<h3>Test parser instance</h3>"
   ]
  },
  {
   "cell_type": "code",
   "execution_count": 3,
   "metadata": {},
   "outputs": [],
   "source": [
    "parser = Parser()\n",
    "\n",
    "# i = 0\n",
    "# for name, parent_name  in parser.get_lvl1_subcategories():\n",
    "#     print(i)\n",
    "#     print(name)\n",
    "#     print(parent_name)\n",
    "#     print('\\n')\n",
    "#     i += 1\n",
    "    \n"
   ]
  },
  {
   "cell_type": "code",
   "execution_count": 4,
   "metadata": {},
   "outputs": [],
   "source": [
    "# for name, parent_name, g_parent_name, url  in parser.get_lvl2_subcategories():\n",
    "#     print(i)\n",
    "#     print(g_parent_name)\n",
    "#     print(parent_name)\n",
    "#     print(name)\n",
    "#     print(url)\n",
    "#     print('\\n')\n",
    "#     i += 1"
   ]
  },
  {
   "cell_type": "code",
   "execution_count": 5,
   "metadata": {
    "scrolled": true
   },
   "outputs": [],
   "source": [
    "# i = 0\n",
    "# for tuple_ in parser.get_product_link():\n",
    "#     print(i)\n",
    "#     print(tuple_)\n",
    "#     print('\\n')\n",
    "#     i += 1\n",
    "#     if i == 10:\n",
    "#         break"
   ]
  },
  {
   "cell_type": "code",
   "execution_count": 6,
   "metadata": {},
   "outputs": [
    {
     "name": "stdout",
     "output_type": "stream",
     "text": [
      "CPU times: user 1 µs, sys: 0 ns, total: 1 µs\n",
      "Wall time: 3.1 µs\n",
      "0\n",
      "Инструменты, крепёж\n",
      "Анкеры\n",
      "Болты анкерные\n",
      "https://www.oma.by/ankernyy-bolt-s-gaykoy-10kh130-mm-1-211171-p\n",
      "{'product_name': 'Анкерный болт с гайкой 10х130 мм, Минск ', 'price_integer_part': '1', 'price_fraction_part': '10', 'product_unit': '/шт'}\n",
      "\n",
      "\n",
      "1\n",
      "Инструменты, крепёж\n",
      "Анкеры\n",
      "Болты анкерные\n",
      "https://www.oma.by/ankernyy-bolt-s-gaykoy-8kh85-mm-1-115013-p\n",
      "{'product_name': 'Анкерный болт с гайкой 8х85 мм, Минск ', 'price_integer_part': '0', 'price_fraction_part': '50', 'product_unit': '/шт'}\n",
      "\n",
      "\n",
      "2\n",
      "Инструменты, крепёж\n",
      "Анкеры\n",
      "Болты анкерные\n",
      "https://www.oma.by/ankernyy-bolt-s-gaykoy-10-0kh-95-97-mm-10-sht-1-158119-p\n",
      "{'product_name': 'Анкерный болт с гайкой 10,0х 95/97 мм 10 шт, Минск ', 'price_integer_part': '9', 'price_fraction_part': '07', 'product_unit': '/упаковка'}\n",
      "\n",
      "\n",
      "3\n",
      "Инструменты, крепёж\n",
      "Анкеры\n",
      "Болты анкерные\n",
      "https://www.oma.by/ankernyy-bolt-s-kryuchkom-8kh40-mm-1-117543-p\n",
      "{'product_name': 'Анкерный болт с крючком 8х40 мм, Минск ', 'price_integer_part': '0', 'price_fraction_part': '60', 'product_unit': '/шт'}\n",
      "\n",
      "\n",
      "4\n",
      "Инструменты, крепёж\n",
      "Анкеры\n",
      "Болты анкерные\n",
      "https://www.oma.by/ankernyy-bolt-s-gaykoy-12kh150-mm-1-211175-p\n",
      "{'product_name': 'Анкерный болт с гайкой 12х150 мм, Минск ', 'price_integer_part': '1', 'price_fraction_part': '78', 'product_unit': '/шт'}\n",
      "\n",
      "\n"
     ]
    }
   ],
   "source": [
    "%time\n",
    "i = 0\n",
    "for url, p_name_, g_p_name_, g_g_p_name_ in parser.get_product_link():\n",
    "    print(i)\n",
    "    print(g_g_p_name_)\n",
    "    print(g_p_name_)\n",
    "    print(p_name_)\n",
    "    print(url)\n",
    "    print(parser.get_product_parameters(url))\n",
    "    print('\\n')\n",
    "    i += 1\n",
    "    if i == 5:\n",
    "        break"
   ]
  },
  {
   "cell_type": "code",
   "execution_count": null,
   "metadata": {},
   "outputs": [],
   "source": []
  }
 ],
 "metadata": {
  "kernelspec": {
   "display_name": "Python 3",
   "language": "python",
   "name": "python3"
  },
  "language_info": {
   "codemirror_mode": {
    "name": "ipython",
    "version": 3
   },
   "file_extension": ".py",
   "mimetype": "text/x-python",
   "name": "python",
   "nbconvert_exporter": "python",
   "pygments_lexer": "ipython3",
   "version": "3.6.7"
  }
 },
 "nbformat": 4,
 "nbformat_minor": 2
}
