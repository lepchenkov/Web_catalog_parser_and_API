{
 "cells": [
  {
   "cell_type": "markdown",
   "metadata": {},
   "source": [
    "<h1>Parsing OMA website</h1>"
   ]
  },
  {
   "cell_type": "markdown",
   "metadata": {},
   "source": [
    "<p>This notebook is just a prototype for testing pieces of python code aimed to parse a specific website.</p>"
   ]
  },
  {
   "cell_type": "code",
   "execution_count": 3,
   "metadata": {},
   "outputs": [],
   "source": [
    "import requests\n",
    "import urllib.request\n",
    "import time\n",
    "from bs4 import BeautifulSoup as BSoup"
   ]
  },
  {
   "cell_type": "code",
   "execution_count": 4,
   "metadata": {},
   "outputs": [],
   "source": [
    "url = 'https://www.oma.by/catalog/'\n",
    "#opens up a connection, grabs the page and downloads it\n",
    "oma_main_html = requests.get(url)"
   ]
  },
  {
   "cell_type": "markdown",
   "metadata": {},
   "source": [
    "<p>soup is a BeautifulSoup object which represents the document as a nested data sctructure:</p>"
   ]
  },
  {
   "cell_type": "code",
   "execution_count": 5,
   "metadata": {},
   "outputs": [],
   "source": [
    "oma_catalog_soup = BSoup(oma_main_html.text, 'html.parser')\n",
    "oma_catalog_soup.title\n",
    "oma_catalog_soup.close"
   ]
  },
  {
   "cell_type": "markdown",
   "metadata": {},
   "source": [
    "<h3>Getting categories </h3>\n",
    "<p>So we get the soup object successfully. Now will try to find category headers on a catalog page (there are 7 main categories). </p>\n",
    "<img src=\"screenshots/category_schema.png\" align=\"left\" width=\"600\">"
   ]
  },
  {
   "cell_type": "code",
   "execution_count": 6,
   "metadata": {
    "scrolled": true
   },
   "outputs": [
    {
     "name": "stdout",
     "output_type": "stream",
     "text": [
      "There are 7 objects that has h2 tags inside the header tag\n",
      "\n",
      "The whole list of the categories:\n",
      "<h2>Инструменты, крепёж</h2>\n",
      "<h2>Отделка</h2>\n",
      "<h2>Садовый центр / отдых</h2>\n",
      "<h2>Сантехника</h2>\n",
      "<h2>Строительство</h2>\n",
      "<h2>Товары для дома</h2>\n",
      "<h2>Электротехника</h2>\n"
     ]
    }
   ],
   "source": [
    "categories = oma_catalog_soup.select('section.bordered-section h2')\n",
    "print(f'There are {len(categories)} objects that has h2 tags inside the header tag')\n",
    "\n",
    "print('\\nThe whole list of the categories:')\n",
    "for category in categories:\n",
    "    print(category)"
   ]
  },
  {
   "cell_type": "markdown",
   "metadata": {},
   "source": [
    "<h3>Getting all categories</h3>\n",
    "<p>So we get the categories list correctly and we can use this h2 tags as anchors for looping.</p>\n",
    "<img src=\"screenshots/subcategories_schema.png\" align=\"left\" width=\"720\">"
   ]
  },
  {
   "cell_type": "markdown",
   "metadata": {},
   "source": [
    "<p>Getting subcategories lvl1 and subcategores lvl2 is possible by processing each category one by one. It is useful to extract 7 category sections for that. </p>"
   ]
  },
  {
   "cell_type": "code",
   "execution_count": 12,
   "metadata": {},
   "outputs": [
    {
     "name": "stdout",
     "output_type": "stream",
     "text": [
      "\n",
      "The type of categories is <class 'bs4.element.ResultSet'>.\n",
      "\n",
      "There are 7 main category objects in <class 'bs4.element.ResultSet'>.\n",
      "\n",
      "Each category object has <class 'bs4.element.Tag'> type.\n"
     ]
    }
   ],
   "source": [
    "categories = oma_catalog_soup.findAll('section',\\\n",
    "                                      {'class':'bordered-section js-accordion-group'})\n",
    "\n",
    "print(f'\\nThe type of categories is {type(categories)}.')\n",
    "\n",
    "print(f'\\nThere are {len(categories)} main category objects in {type(categories)}.')\n",
    "\n",
    "print(f'\\nEach category object has {type(categories[0])} type.')\n"
   ]
  },
  {
   "cell_type": "markdown",
   "metadata": {},
   "source": [
    "<h3>Getting subcategories lvl_1</h3>\n",
    "<p>Getting subcategories lvl_1 fron single category object.</p>"
   ]
  },
  {
   "cell_type": "code",
   "execution_count": 11,
   "metadata": {},
   "outputs": [
    {
     "name": "stdout",
     "output_type": "stream",
     "text": [
      "\n",
      "The type of subcats_lvl_1 is <class 'bs4.element.ResultSet'>.\n",
      "\n",
      "There are 40 subcats_lvl_1 objects\n",
      "\n",
      "Each subcats_lvl_1 object has <class 'bs4.element.Tag'> type.\n",
      "\n",
      "\n",
      "<div class=\"catalog-all-item col col-lg-3-of-12 col-md-4-of-12 col-sm-6-of-12 col-xs-12-of-12\">\n",
      "<div class=\"catalog-all-item_img-box\">\n",
      "<img alt=\"\" src=\"/upload/Sh/imageCache/ad0/5e0/14b9b1eb45799ec953c4d4a00d601b13.jpg\"/>\n",
      "</div>\n",
      "<div class=\"accordion-item accordion-item__right-icon js-accordion\">\n",
      "<div class=\"accordion-item_top\">\n",
      "<div class=\"accordion-item_icon css-plus-icon js-accordion-bar\"></div>\n",
      "<div class=\"accordion-item_title\">\n",
      "<a href=\"/ankery-13127-c\">Анкеры</a>\n",
      "</div>\n",
      "</div>\n",
      "<div class=\"accordion-item_body js-accordion-body js-show-more-box\" data-items-visible=\"11\">\n",
      "<a class=\"section-submenu-sublink\" href=\"/ankery-ramnye-13251-c\">Анкеры рамные</a>\n",
      "<a class=\"section-submenu-sublink\" href=\"/ankery-spetsialnye-13252-c\">Анкеры специальные</a>\n",
      "<a class=\"section-submenu-sublink\" href=\"/bolty-ankernye-13253-c\">Болты анкерные</a>\n",
      "</div>\n",
      "</div>\n",
      "</div>\n"
     ]
    }
   ],
   "source": [
    "subcats_lvl_1 = categories[0].findAll('div',\\\n",
    "                                      {'class':'catalog-all-item'})\n",
    "\n",
    "print(f'\\nThe type of subcats_lvl_1 is {type(subcats_lvl_1)}.')\n",
    "\n",
    "print(f'\\nThere are {len(subcats_lvl_1)} subcats_lvl_1 objects')\n",
    "\n",
    "print(f'\\nEach subcats_lvl_1 object has {type(subcats_lvl_1[0])} type.')\n",
    "\n",
    "print('\\n')\n",
    "print(subcats_lvl_1[0])"
   ]
  },
  {
   "cell_type": "markdown",
   "metadata": {},
   "source": [
    "<h3>Getting subcategories lvl_2</h3>\n",
    "<p>Getting subcategories lvl_2 from single subcats_lvl_1 object.</p>"
   ]
  },
  {
   "cell_type": "code",
   "execution_count": 17,
   "metadata": {},
   "outputs": [
    {
     "name": "stdout",
     "output_type": "stream",
     "text": [
      "\n",
      "The type of subcats_lvl_2 is <class 'bs4.element.ResultSet'>.\n",
      "\n",
      "There are 3 subcats_lvl_2 objects\n",
      "\n",
      "Each subcats_lvl_2 object has <class 'bs4.element.Tag'> type.\n",
      "\n",
      "\n",
      "[<a class=\"section-submenu-sublink\" href=\"/ankery-ramnye-13251-c\">Анкеры рамные</a>, <a class=\"section-submenu-sublink\" href=\"/ankery-spetsialnye-13252-c\">Анкеры специальные</a>, <a class=\"section-submenu-sublink\" href=\"/bolty-ankernye-13253-c\">Болты анкерные</a>]\n"
     ]
    }
   ],
   "source": [
    "subcats_lvl_2 = subcats_lvl_1[0].findAll('a',\\\n",
    "                                      {'class':'section-submenu-sublink'})\n",
    "\n",
    "print(f'\\nThe type of subcats_lvl_2 is {type(subcats_lvl_2)}.')\n",
    "\n",
    "print(f'\\nThere are {len(subcats_lvl_2)} subcats_lvl_2 objects')\n",
    "\n",
    "print(f'\\nEach subcats_lvl_2 object has {type(subcats_lvl_2[0])} type.')\n",
    "\n",
    "print('\\n')\n",
    "print(subcats_lvl_2)"
   ]
  },
  {
   "cell_type": "code",
   "execution_count": null,
   "metadata": {},
   "outputs": [],
   "source": []
  }
 ],
 "metadata": {
  "kernelspec": {
   "display_name": "Python 3",
   "language": "python",
   "name": "python3"
  },
  "language_info": {
   "codemirror_mode": {
    "name": "ipython",
    "version": 3
   },
   "file_extension": ".py",
   "mimetype": "text/x-python",
   "name": "python",
   "nbconvert_exporter": "python",
   "pygments_lexer": "ipython3",
   "version": "3.6.4"
  }
 },
 "nbformat": 4,
 "nbformat_minor": 2
}
