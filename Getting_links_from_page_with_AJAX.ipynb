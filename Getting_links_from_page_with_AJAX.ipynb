{
 "cells": [
  {
   "cell_type": "markdown",
   "metadata": {},
   "source": [
    "<h1>Getting links from page with AJAX calls</h1>"
   ]
  },
  {
   "cell_type": "code",
   "execution_count": 1,
   "metadata": {},
   "outputs": [],
   "source": [
    "import requests\n",
    "import urllib.request\n",
    "import time\n",
    "from bs4 import BeautifulSoup as BSoup\n",
    "import pandas as pd\n",
    "import re\n",
    "import lxml\n",
    "import html5lib"
   ]
  },
  {
   "cell_type": "markdown",
   "metadata": {},
   "source": [
    "<p>First of all will get all product cards from plain html. From this particular page we should get 24 cards.</p>\n",
    "<img src=\"screenshots/4x6_catalog_page.png\" align=\"left\" width=\"300\">"
   ]
  },
  {
   "cell_type": "code",
   "execution_count": 47,
   "metadata": {},
   "outputs": [
    {
     "name": "stdout",
     "output_type": "stream",
     "text": [
      "https://www.oma.by/drel-shurupovert-akkumulyatornaya-werker-ewcdl814-1-244685-p\n"
     ]
    }
   ],
   "source": [
    "#typical products page\n",
    "url = 'https://www.oma.by/dreli-shurupoverty-perforatory-meshalki-13236-c'\n",
    "\n",
    "products_page = requests.get(url)\n",
    "products_page_soup = BSoup(products_page.text, 'html.parser')\n",
    "\n",
    "#the extraction of link of the product card is made two-staged\n",
    "product_cards = products_page_soup.select('div.catalog-grid div.product-item_img-box')\n",
    "product_link_raw = product_cards[0].select('a.no-border-product')\n",
    "product_link = 'https://www.oma.by' + product_link_raw[0].attrs['href']\n",
    "print(product_link)\n"
   ]
  },
  {
   "cell_type": "markdown",
   "metadata": {},
   "source": [
    "<p>There is a challenge of getting all products from subcategory lvl2 page. The problem is that button with AJAX call is used for expanding the page.</p>\n",
    "<img src=\"screenshots/expand_buttons.png\" align=\"left\" width=\"600\">"
   ]
  }
 ],
 "metadata": {
  "kernelspec": {
   "display_name": "Python 3",
   "language": "python",
   "name": "python3"
  },
  "language_info": {
   "codemirror_mode": {
    "name": "ipython",
    "version": 3
   },
   "file_extension": ".py",
   "mimetype": "text/x-python",
   "name": "python",
   "nbconvert_exporter": "python",
   "pygments_lexer": "ipython3",
   "version": "3.6.7"
  }
 },
 "nbformat": 4,
 "nbformat_minor": 2
}
