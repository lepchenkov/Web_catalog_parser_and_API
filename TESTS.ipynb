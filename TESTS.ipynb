{
 "cells": [
  {
   "cell_type": "markdown",
   "metadata": {},
   "source": [
    "<h1>TESTS of parsing_module.py</h1>\n",
    "<h3>Import section</h3>"
   ]
  },
  {
   "cell_type": "code",
   "execution_count": 1,
   "metadata": {},
   "outputs": [],
   "source": [
    "import sys\n",
    "import os"
   ]
  },
  {
   "cell_type": "markdown",
   "metadata": {},
   "source": [
    "<p>Add current directory to the PYTHONPATH so we can make the import of parser.py file. </p>"
   ]
  },
  {
   "cell_type": "code",
   "execution_count": 2,
   "metadata": {},
   "outputs": [],
   "source": [
    "dir_path = os.getcwd()\n",
    "sys.path.insert(0,dir_path)\n",
    "print(sys.path)\n",
    "print('\\n')\n",
    "print(sys.executable)"
   ]
  },
  {
   "cell_type": "code",
   "execution_count": 3,
   "metadata": {},
   "outputs": [],
   "source": [
    "from parsing_module import *"
   ]
  },
  {
   "cell_type": "markdown",
   "metadata": {},
   "source": [
    "<h3>Test section</h3>\n",
    "<p>Test parse_catalog_page function </p>"
   ]
  },
  {
   "cell_type": "code",
   "execution_count": 13,
   "metadata": {},
   "outputs": [
    {
     "name": "stdout",
     "output_type": "stream",
     "text": [
      "Анкеры рамные\n",
      "Анкеры специальные\n",
      "Болты анкерные\n",
      "Бензокосы (травокосилки) бытовые\n",
      "Бензокосы (травокосилки) профессиональные\n",
      "Триммеры аккумуляторные\n",
      "Триммеры электрические с верхним двигателем\n",
      "Триммеры электрические с нижним двигателем\n",
      "Болты\n",
      "Винты\n",
      "\n",
      "The number of elements in array is 1224\n"
     ]
    }
   ],
   "source": [
    "#parse_catalog_page returns a full list of subcat_lvl2 categories\n",
    "parse_test = parse_catalog_page(url)\n",
    "for entry in parse_test[:10]:\n",
    "    print(entry)\n",
    "\n",
    "print(f'\\nThe number of elements in array is {len(parse_test)}')"
   ]
  }
 ],
 "metadata": {
  "kernelspec": {
   "display_name": "Python 3",
   "language": "python",
   "name": "python3"
  },
  "language_info": {
   "codemirror_mode": {
    "name": "ipython",
    "version": 3
   },
   "file_extension": ".py",
   "mimetype": "text/x-python",
   "name": "python",
   "nbconvert_exporter": "python",
   "pygments_lexer": "ipython3",
   "version": "3.6.7"
  }
 },
 "nbformat": 4,
 "nbformat_minor": 2
}
