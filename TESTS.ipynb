{
 "cells": [
  {
   "cell_type": "markdown",
   "metadata": {},
   "source": [
    "<h1>TESTS of parsing_module.py</h1>\n",
    "<h3>Import section</h3>"
   ]
  },
  {
   "cell_type": "code",
   "execution_count": 1,
   "metadata": {},
   "outputs": [],
   "source": [
    "import sys\n",
    "import os"
   ]
  },
  {
   "cell_type": "markdown",
   "metadata": {},
   "source": [
    "<p>Add current directory to the PYTHONPATH so we can make the import of parser.py file. </p>"
   ]
  },
  {
   "cell_type": "code",
   "execution_count": 2,
   "metadata": {},
   "outputs": [
    {
     "name": "stdout",
     "output_type": "stream",
     "text": [
      "['/home/kiryl/Documents/Projects/Website_Parser', '/home/kiryl/Documents/Environments/scraper/lib/python36.zip', '/home/kiryl/Documents/Environments/scraper/lib/python3.6', '/home/kiryl/Documents/Environments/scraper/lib/python3.6/lib-dynload', '/usr/lib/python3.6', '', '/home/kiryl/Documents/Environments/scraper/lib/python3.6/site-packages', '/home/kiryl/Documents/Environments/scraper/lib/python3.6/site-packages/IPython/extensions', '/home/kiryl/.ipython']\n",
      "\n",
      "\n",
      "/home/kiryl/Documents/Environments/scraper/bin/python3\n"
     ]
    }
   ],
   "source": [
    "dir_path = os.getcwd()\n",
    "sys.path.insert(0,dir_path)\n",
    "print(sys.path)\n",
    "print('\\n')\n",
    "print(sys.executable)"
   ]
  },
  {
   "cell_type": "code",
   "execution_count": 3,
   "metadata": {},
   "outputs": [],
   "source": [
    "from parsing_module import *"
   ]
  },
  {
   "cell_type": "markdown",
   "metadata": {},
   "source": [
    "<h3>Test section</h3>"
   ]
  },
  {
   "cell_type": "code",
   "execution_count": 4,
   "metadata": {},
   "outputs": [
    {
     "name": "stdout",
     "output_type": "stream",
     "text": [
      "Инструменты, крепёж\n",
      "Отделка\n",
      "Садовый центр / отдых\n",
      "Сантехника\n",
      "Строительство\n",
      "Товары для дома\n",
      "Электротехника\n"
     ]
    }
   ],
   "source": [
    "url = 'https://www.oma.by/catalog/'\n",
    "category_objects = get_category_objects(url)\n",
    "\n",
    "for category_obj in category_objects:\n",
    "    print(get_category_name(category_obj))"
   ]
  },
  {
   "cell_type": "code",
   "execution_count": null,
   "metadata": {},
   "outputs": [],
   "source": []
  }
 ],
 "metadata": {
  "kernelspec": {
   "display_name": "Python 3",
   "language": "python",
   "name": "python3"
  },
  "language_info": {
   "codemirror_mode": {
    "name": "ipython",
    "version": 3
   },
   "file_extension": ".py",
   "mimetype": "text/x-python",
   "name": "python",
   "nbconvert_exporter": "python",
   "pygments_lexer": "ipython3",
   "version": "3.6.7"
  }
 },
 "nbformat": 4,
 "nbformat_minor": 2
}
