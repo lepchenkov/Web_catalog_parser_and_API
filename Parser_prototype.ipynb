{
 "cells": [
  {
   "cell_type": "markdown",
   "metadata": {},
   "source": [
    "<h1>Parsing OMA website</h1>"
   ]
  },
  {
   "cell_type": "markdown",
   "metadata": {},
   "source": [
    "<p>This notebook is just a prototype for testing pieces of python code aimed to parse a specific website.</p>"
   ]
  },
  {
   "cell_type": "code",
   "execution_count": 2,
   "metadata": {},
   "outputs": [],
   "source": [
    "import requests\n",
    "import urllib.request\n",
    "import time\n",
    "from bs4 import BeautifulSoup as BSoup\n",
    "import pandas as pd\n",
    "import re"
   ]
  },
  {
   "cell_type": "code",
   "execution_count": 3,
   "metadata": {},
   "outputs": [],
   "source": [
    "url = 'https://www.oma.by/catalog/'\n",
    "#opens up a connection, grabs the page and downloads it\n",
    "oma_main_html = requests.get(url)"
   ]
  },
  {
   "cell_type": "markdown",
   "metadata": {},
   "source": [
    "<p>soup is a BeautifulSoup object which represents the document as a nested data sctructure:</p>"
   ]
  },
  {
   "cell_type": "code",
   "execution_count": 4,
   "metadata": {},
   "outputs": [],
   "source": [
    "oma_catalog_soup = BSoup(oma_main_html.text, 'html.parser')\n",
    "oma_catalog_soup.title\n",
    "oma_catalog_soup.close"
   ]
  },
  {
   "cell_type": "markdown",
   "metadata": {},
   "source": [
    "<h3>Getting categories </h3>\n",
    "<p>So we get the soup object successfully. Now will try to find category headers on a catalog page (there are 7 main categories). </p>\n",
    "<img src=\"screenshots/category_schema.png\" align=\"left\" width=\"600\">"
   ]
  },
  {
   "cell_type": "code",
   "execution_count": 5,
   "metadata": {
    "scrolled": true
   },
   "outputs": [
    {
     "name": "stdout",
     "output_type": "stream",
     "text": [
      "There are 7 objects that has h2 tags inside the header tag\n",
      "\n",
      "The whole list of the categories:\n",
      "<h2>Инструменты, крепёж</h2>\n",
      "<h2>Отделка</h2>\n",
      "<h2>Садовый центр / отдых</h2>\n",
      "<h2>Сантехника</h2>\n",
      "<h2>Строительство</h2>\n",
      "<h2>Товары для дома</h2>\n",
      "<h2>Электротехника</h2>\n"
     ]
    }
   ],
   "source": [
    "categories = oma_catalog_soup.select('section.bordered-section h2')\n",
    "print(f'There are {len(categories)} objects that has h2 tags inside the header tag')\n",
    "\n",
    "print('\\nThe whole list of the categories:')\n",
    "for category in categories:\n",
    "    print(category)"
   ]
  },
  {
   "cell_type": "markdown",
   "metadata": {},
   "source": [
    "<h3>Getting all categories</h3>\n",
    "<p>So we get the categories list correctly and we can use this h2 tags as anchors for looping.</p>\n",
    "<img src=\"screenshots/subcategories_schema.png\" align=\"left\" width=\"720\">"
   ]
  },
  {
   "cell_type": "markdown",
   "metadata": {},
   "source": [
    "<p>Getting subcategories lvl1 and subcategores lvl2 is possible by processing each category one by one. It is useful to extract 7 category sections for that. </p>"
   ]
  },
  {
   "cell_type": "code",
   "execution_count": 6,
   "metadata": {},
   "outputs": [
    {
     "name": "stdout",
     "output_type": "stream",
     "text": [
      "\n",
      "The type of categories is <class 'bs4.element.ResultSet'>.\n",
      "\n",
      "There are 7 main category objects in <class 'bs4.element.ResultSet'>.\n",
      "\n",
      "Each category object has <class 'bs4.element.Tag'> type.\n",
      "\n",
      "First category raw:\n",
      "[<h2>Инструменты, крепёж</h2>]\n",
      "<class 'list'>\n",
      "\n",
      "First category extracted from list:\n",
      "<h2>Инструменты, крепёж</h2>\n",
      "<class 'bs4.element.Tag'>\n",
      "\n",
      "First category extracted from list and converted to string:\n",
      "<h2>Инструменты, крепёж</h2>\n",
      "<class 'str'>\n",
      "\n"
     ]
    }
   ],
   "source": [
    "categories = oma_catalog_soup.findAll('section',\\\n",
    "                                      {'class':'bordered-section js-accordion-group'})\n",
    "\n",
    "print(f'\\nThe type of categories is {type(categories)}.')\n",
    "\n",
    "print(f'\\nThere are {len(categories)} main category objects in {type(categories)}.')\n",
    "\n",
    "print(f'\\nEach category object has {type(categories[0])} type.')\n",
    "\n",
    "#strip the name of the category\n",
    "category_name_0 = categories[0].select('section.bordered-section h2')\n",
    "\n",
    "print('\\nFirst category raw:')\n",
    "print(category_name_0)\n",
    "print(type(category_name_0))\n",
    "\n",
    "print('\\nFirst category extracted from list:')\n",
    "print(category_name_0[0])\n",
    "print(type(category_name_0[0]))\n",
    "\n",
    "print('\\nFirst category extracted from list and converted to string:')\n",
    "print(str(category_name_0[0]))\n",
    "print(type(str(category_name_0[0])))\n",
    "print('')"
   ]
  },
  {
   "cell_type": "markdown",
   "metadata": {},
   "source": [
    "<p>Extract category names:</p>"
   ]
  },
  {
   "cell_type": "code",
   "execution_count": 7,
   "metadata": {},
   "outputs": [
    {
     "name": "stdout",
     "output_type": "stream",
     "text": [
      "Инструменты, крепёж\n",
      "Отделка\n",
      "Садовый центр / отдых\n",
      "Сантехника\n",
      "Строительство\n",
      "Товары для дома\n",
      "Электротехника\n"
     ]
    }
   ],
   "source": [
    "def remove_tags(text): \n",
    "    \"\"\"Remove html tags from a string\"\"\"\n",
    "    clean = re.compile('<.*?>')\n",
    "    return re.sub(clean, '', text)\n",
    "\n",
    "def extract_category_name(list):\n",
    "    name_with_tags = str(list[0])\n",
    "    return remove_tags(name_with_tags)\n",
    "\n",
    "for category in categories:\n",
    "    category_name_raw = category.select('section.bordered-section h2')\n",
    "    print(extract_category_name(category_name_raw))"
   ]
  },
  {
   "cell_type": "markdown",
   "metadata": {},
   "source": [
    "<h3>Getting subcategories lvl_1</h3>\n",
    "<p>Getting subcategories lvl_1 fron single category object.</p>"
   ]
  },
  {
   "cell_type": "code",
   "execution_count": 8,
   "metadata": {},
   "outputs": [
    {
     "name": "stdout",
     "output_type": "stream",
     "text": [
      "\n",
      "The type of subcats_lvl_1 is <class 'bs4.element.ResultSet'>.\n",
      "\n",
      "There are 40 subcats_lvl_1 objects\n",
      "\n",
      "Each subcats_lvl_1 object has <class 'bs4.element.Tag'> type.\n",
      "\n",
      "\n",
      "<div class=\"catalog-all-item col col-lg-3-of-12 col-md-4-of-12 col-sm-6-of-12 col-xs-12-of-12\">\n",
      "<div class=\"catalog-all-item_img-box\">\n",
      "<img alt=\"\" src=\"/upload/Sh/imageCache/ad0/5e0/14b9b1eb45799ec953c4d4a00d601b13.jpg\"/>\n",
      "</div>\n",
      "<div class=\"accordion-item accordion-item__right-icon js-accordion\">\n",
      "<div class=\"accordion-item_top\">\n",
      "<div class=\"accordion-item_icon css-plus-icon js-accordion-bar\"></div>\n",
      "<div class=\"accordion-item_title\">\n",
      "<a href=\"/ankery-13127-c\">Анкеры</a>\n",
      "</div>\n",
      "</div>\n",
      "<div class=\"accordion-item_body js-accordion-body js-show-more-box\" data-items-visible=\"11\">\n",
      "<a class=\"section-submenu-sublink\" href=\"/ankery-ramnye-13251-c\">Анкеры рамные</a>\n",
      "<a class=\"section-submenu-sublink\" href=\"/ankery-spetsialnye-13252-c\">Анкеры специальные</a>\n",
      "<a class=\"section-submenu-sublink\" href=\"/bolty-ankernye-13253-c\">Болты анкерные</a>\n",
      "</div>\n",
      "</div>\n",
      "</div>\n"
     ]
    }
   ],
   "source": [
    "subcats_lvl_1 = categories[0].findAll('div',\\\n",
    "                                      {'class':'catalog-all-item'})\n",
    "\n",
    "print(f'\\nThe type of subcats_lvl_1 is {type(subcats_lvl_1)}.')\n",
    "\n",
    "print(f'\\nThere are {len(subcats_lvl_1)} subcats_lvl_1 objects')\n",
    "\n",
    "print(f'\\nEach subcats_lvl_1 object has {type(subcats_lvl_1[0])} type.')\n",
    "\n",
    "print('\\n')\n",
    "print(subcats_lvl_1[0])"
   ]
  },
  {
   "cell_type": "markdown",
   "metadata": {},
   "source": [
    "<h3>Getting subcategories lvl_2</h3>\n",
    "<p>Getting subcategories lvl_2 from single subcats_lvl_1 object.</p>"
   ]
  },
  {
   "cell_type": "code",
   "execution_count": 9,
   "metadata": {},
   "outputs": [
    {
     "name": "stdout",
     "output_type": "stream",
     "text": [
      "\n",
      "The type of subcats_lvl_2 is <class 'bs4.element.ResultSet'>.\n",
      "\n",
      "There are 3 subcats_lvl_2 objects\n",
      "\n",
      "Each subcats_lvl_2 object has <class 'bs4.element.Tag'> type.\n",
      "\n",
      "\n",
      "[<a class=\"section-submenu-sublink\" href=\"/ankery-ramnye-13251-c\">Анкеры рамные</a>, <a class=\"section-submenu-sublink\" href=\"/ankery-spetsialnye-13252-c\">Анкеры специальные</a>, <a class=\"section-submenu-sublink\" href=\"/bolty-ankernye-13253-c\">Болты анкерные</a>]\n"
     ]
    }
   ],
   "source": [
    "subcats_lvl_2 = subcats_lvl_1[0].findAll('a',\\\n",
    "                                      {'class':'section-submenu-sublink'})\n",
    "\n",
    "print(f'\\nThe type of subcats_lvl_2 is {type(subcats_lvl_2)}.')\n",
    "\n",
    "print(f'\\nThere are {len(subcats_lvl_2)} subcats_lvl_2 objects')\n",
    "\n",
    "print(f'\\nEach subcats_lvl_2 object has {type(subcats_lvl_2[0])} type.')\n",
    "\n",
    "print('\\n')\n",
    "print(subcats_lvl_2)"
   ]
  },
  {
   "cell_type": "markdown",
   "metadata": {},
   "source": [
    "<h3>Creating a dataframe containing all links</h3>\n",
    "<p>Seems like a good idea to have dataframe containing all links to subcategories lvl 2. The dataframe is expected to be lightweight and unseful for future parsing.</p>"
   ]
  },
  {
   "cell_type": "code",
   "execution_count": 10,
   "metadata": {},
   "outputs": [
    {
     "data": {
      "text/html": [
       "<div>\n",
       "<style scoped>\n",
       "    .dataframe tbody tr th:only-of-type {\n",
       "        vertical-align: middle;\n",
       "    }\n",
       "\n",
       "    .dataframe tbody tr th {\n",
       "        vertical-align: top;\n",
       "    }\n",
       "\n",
       "    .dataframe thead th {\n",
       "        text-align: right;\n",
       "    }\n",
       "</style>\n",
       "<table border=\"1\" class=\"dataframe\">\n",
       "  <thead>\n",
       "    <tr style=\"text-align: right;\">\n",
       "      <th></th>\n",
       "      <th>Link number</th>\n",
       "      <th>Category</th>\n",
       "      <th>Subcategory lvl 1</th>\n",
       "      <th>Subcategory lvl 2</th>\n",
       "      <th>Link</th>\n",
       "    </tr>\n",
       "  </thead>\n",
       "  <tbody>\n",
       "  </tbody>\n",
       "</table>\n",
       "</div>"
      ],
      "text/plain": [
       "Empty DataFrame\n",
       "Columns: [Link number, Category, Subcategory lvl 1, Subcategory lvl 2, Link]\n",
       "Index: []"
      ]
     },
     "execution_count": 10,
     "metadata": {},
     "output_type": "execute_result"
    }
   ],
   "source": [
    "main_page_links_df = pd.DataFrame(columns = ['Link number', 'Category',\\\n",
    "                                             'Subcategory lvl 1','Subcategory lvl 2',\\\n",
    "                                             'Link']) \n",
    "main_page_links_df"
   ]
  }
 ],
 "metadata": {
  "kernelspec": {
   "display_name": "Python 3",
   "language": "python",
   "name": "python3"
  },
  "language_info": {
   "codemirror_mode": {
    "name": "ipython",
    "version": 3
   },
   "file_extension": ".py",
   "mimetype": "text/x-python",
   "name": "python",
   "nbconvert_exporter": "python",
   "pygments_lexer": "ipython3",
   "version": "3.6.4"
  }
 },
 "nbformat": 4,
 "nbformat_minor": 2
}
